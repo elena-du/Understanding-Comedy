{
 "cells": [
  {
   "cell_type": "code",
   "execution_count": 27,
   "metadata": {},
   "outputs": [],
   "source": [
    "from bs4 import BeautifulSoup\n",
    "import requests\n",
    "import time, os\n",
    "from selenium import webdriver\n",
    "from selenium.webdriver.common.keys import Keys\n",
    "import pickle\n",
    "import random\n",
    "from collections import defaultdict\n",
    "\n",
    "import os\n",
    "\n",
    "import google_auth_oauthlib.flow\n",
    "import googleapiclient.discovery\n",
    "import googleapiclient.errors\n",
    "\n",
    "from pymongo import MongoClient"
   ]
  },
  {
   "cell_type": "markdown",
   "metadata": {},
   "source": [
    "# Get URLs"
   ]
  },
  {
   "cell_type": "code",
   "execution_count": 28,
   "metadata": {},
   "outputs": [],
   "source": [
    "chromedriver = '/Applications/chromedriver'\n",
    "os.environ['webdriver.chrome.driver'] = chromedriver"
   ]
  },
  {
   "cell_type": "code",
   "execution_count": 29,
   "metadata": {},
   "outputs": [
    {
     "data": {
      "text/plain": [
       "'https://www.youtube.com/results?search_query=covid-19+comedy'"
      ]
     },
     "execution_count": 29,
     "metadata": {},
     "output_type": "execute_result"
    }
   ],
   "source": [
    "query = 'covid-19 comedy'\n",
    "youtube_search = 'https://www.youtube.com/results?search_query='\n",
    "#channel_filter = '&sp=EgIQAg%253D%253D'\n",
    "youtube_query = youtube_search + query.replace(' ', '+') # + channel_filter\n",
    "youtube_query"
   ]
  },
  {
   "cell_type": "code",
   "execution_count": 30,
   "metadata": {},
   "outputs": [],
   "source": [
    "driver = webdriver.Chrome(chromedriver)\n",
    "driver.get(youtube_query)"
   ]
  },
  {
   "cell_type": "code",
   "execution_count": 44,
   "metadata": {},
   "outputs": [],
   "source": [
    "#scroll\n",
    "for i in range(150):\n",
    "    driver.execute_script(\"window.scrollTo(0, document.documentElement.scrollHeight);\")\n",
    "    time.sleep(1)"
   ]
  },
  {
   "cell_type": "code",
   "execution_count": 48,
   "metadata": {},
   "outputs": [],
   "source": [
    "soup = BeautifulSoup(driver.page_source, 'html.parser')\n",
    "contents_div = soup.find('div', id='contents')\n",
    "\n",
    "urls = []\n",
    "for title in contents_div.find_all('a', id='thumbnail', attrs={'class': 'yt-simple-endpoint inline-block style-scope ytd-thumbnail'}):\n",
    "    channel_url = f\"https://www.youtube.com{title['href']}\"\n",
    "    urls.append(channel_url)"
   ]
  },
  {
   "cell_type": "code",
   "execution_count": 51,
   "metadata": {},
   "outputs": [],
   "source": [
    "with open('urls_comedy_covid_644.pkl', 'wb') as picklefile:\n",
    "    pickle.dump(urls, picklefile)"
   ]
  },
  {
   "cell_type": "code",
   "execution_count": 49,
   "metadata": {},
   "outputs": [
    {
     "data": {
      "text/plain": [
       "644"
      ]
     },
     "execution_count": 49,
     "metadata": {},
     "output_type": "execute_result"
    }
   ],
   "source": [
    "len(urls)"
   ]
  },
  {
   "cell_type": "markdown",
   "metadata": {},
   "source": [
    "# Set Up DB"
   ]
  },
  {
   "cell_type": "code",
   "execution_count": 53,
   "metadata": {},
   "outputs": [],
   "source": [
    "client = MongoClient()"
   ]
  },
  {
   "cell_type": "code",
   "execution_count": 61,
   "metadata": {},
   "outputs": [
    {
     "data": {
      "text/plain": [
       "['admin', 'books', 'config', 'local', 'outings']"
      ]
     },
     "execution_count": 61,
     "metadata": {},
     "output_type": "execute_result"
    }
   ],
   "source": [
    "client.list_database_names()"
   ]
  },
  {
   "cell_type": "code",
   "execution_count": 62,
   "metadata": {},
   "outputs": [],
   "source": [
    "db = client['comedy_covid']"
   ]
  },
  {
   "cell_type": "code",
   "execution_count": 65,
   "metadata": {},
   "outputs": [],
   "source": [
    "db.create_collection(\"covid_comedy_youtube_comments\")"
   ]
  },
  {
   "cell_type": "code",
   "execution_count": 80,
   "metadata": {},
   "outputs": [
    {
     "data": {
      "text/plain": [
       "['covid_comedy_youtube_comments_test', 'covid_comedy_youtube_comments']"
      ]
     },
     "execution_count": 80,
     "metadata": {},
     "output_type": "execute_result"
    }
   ],
   "source": [
    "db.list_collection_names()"
   ]
  },
  {
   "cell_type": "code",
   "execution_count": 67,
   "metadata": {},
   "outputs": [
    {
     "data": {
      "text/plain": [
       "['admin', 'books', 'comedy_covid', 'config', 'local', 'outings']"
      ]
     },
     "execution_count": 67,
     "metadata": {},
     "output_type": "execute_result"
    }
   ],
   "source": [
    "client.list_database_names()"
   ]
  },
  {
   "cell_type": "code",
   "execution_count": 79,
   "metadata": {},
   "outputs": [
    {
     "data": {
      "text/plain": [
       "<pymongo.results.InsertOneResult at 0x11080baf0>"
      ]
     },
     "execution_count": 79,
     "metadata": {},
     "output_type": "execute_result"
    }
   ],
   "source": [
    "#covid_comedy_youtube_comments_test.insert_one({'y':1})"
   ]
  },
  {
   "cell_type": "code",
   "execution_count": 85,
   "metadata": {},
   "outputs": [],
   "source": [
    "covid_comedy_youtube_comments = db.get_collection('covid_comedy_youtube_comments')"
   ]
  },
  {
   "cell_type": "markdown",
   "metadata": {},
   "source": [
    "# Get Comments with API"
   ]
  },
  {
   "cell_type": "code",
   "execution_count": 87,
   "metadata": {},
   "outputs": [],
   "source": [
    "# Sample Python code for youtube.comments.list\n",
    "# See instructions for running these code samples locally:\n",
    "# https://developers.google.com/explorer-help/guides/code_samples#python\n",
    " \n",
    "import os\n",
    "\n",
    "import googleapiclient.discovery\n",
    "\n",
    "def main():\n",
    "    # Disable OAuthlib's HTTPS verification when running locally.\n",
    "    # *DO NOT* leave this option enabled in production.\n",
    "    os.environ[\"OAUTHLIB_INSECURE_TRANSPORT\"] = \"1\"\n",
    "\n",
    "    api_service_name = \"youtube\"\n",
    "    api_version = \"v3\"\n",
    "    DEVELOPER_KEY = \"XXXXXXXXXX\"\n",
    "\n",
    "    youtube = googleapiclient.discovery.build(\n",
    "        api_service_name, api_version, developerKey = DEVELOPER_KEY)\n",
    "    \n",
    "    for url in urls:\n",
    "        try:\n",
    "            url = url.replace(\"https://www.youtube.com/watch?v=\", '')\n",
    "            request = youtube.commentThreads().list(part=\"snippet,replies\",videoId=url)\n",
    "            response = request.execute()\n",
    "            covid_comedy_youtube_comments.insert_one(response)\n",
    "        except:\n",
    "            continue\n",
    "\n",
    " \n",
    "\n",
    " if __name__ == \"__main__\":\n",
    "    main()"
   ]
  },
  {
   "cell_type": "code",
   "execution_count": 88,
   "metadata": {},
   "outputs": [
    {
     "name": "stderr",
     "output_type": "stream",
     "text": [
      "/Users/elena/opt/anaconda3/lib/python3.7/site-packages/ipykernel_launcher.py:1: DeprecationWarning: count is deprecated. Use estimated_document_count or count_documents instead. Please note that $where must be replaced by $expr, $near must be replaced by $geoWithin with $center, and $nearSphere must be replaced by $geoWithin with $centerSphere\n",
      "  \"\"\"Entry point for launching an IPython kernel.\n"
     ]
    },
    {
     "data": {
      "text/plain": [
       "621"
      ]
     },
     "execution_count": 88,
     "metadata": {},
     "output_type": "execute_result"
    }
   ],
   "source": [
    "covid_comedy_youtube_comments.count()"
   ]
  },
  {
   "cell_type": "code",
   "execution_count": 96,
   "metadata": {},
   "outputs": [],
   "source": [
    "#covid_comedy_youtube_comments.find_one()"
   ]
  },
  {
   "cell_type": "markdown",
   "metadata": {},
   "source": [
    "### Drafts "
   ]
  },
  {
   "cell_type": "code",
   "execution_count": 97,
   "metadata": {},
   "outputs": [],
   "source": [
    "\n",
    "# scopes = [\"https://www.googleapis.com/auth/youtube.readonly\"]\n",
    "\n",
    "# def main():\n",
    "#     # Disable OAuthlib's HTTPS verification when running locally.\n",
    "#     # *DO NOT* leave this option enabled in production.\n",
    "#     os.environ[\"OAUTHLIB_INSECURE_TRANSPORT\"] = \"1\"\n",
    "\n",
    "#     api_service_name = \"youtube\"\n",
    "#     api_version = \"v3\"\n",
    "#     client_secrets_file = \"../client_secret_comedy-project-276920.json\"\n",
    "\n",
    "#     # Get credentials and create an API client\n",
    "#     flow = google_auth_oauthlib.flow.InstalledAppFlow.from_client_secrets_file(\n",
    "#         client_secrets_file, scopes)\n",
    "#     credentials = flow.run_console()\n",
    "#     youtube = googleapiclient.discovery.build(\n",
    "#         api_service_name, api_version, credentials=credentials)\n",
    "\n",
    "#     request = youtube.channels().list(\n",
    "#         part=\"snippet,contentDetails,statistics\",\n",
    "#         id=\"XXXX\"\n",
    "#     )\n",
    "#     response = request.execute()\n",
    "\n",
    "#     print(response)\n",
    "\n",
    "# if __name__ == \"__main__\":\n",
    "#     main()"
   ]
  },
  {
   "cell_type": "code",
   "execution_count": 98,
   "metadata": {},
   "outputs": [],
   "source": [
    "# scopes = [\"https://www.googleapis.com/auth/youtube.readonly\"]\n",
    "\n",
    "# def main():\n",
    "#     # Disable OAuthlib's HTTPS verification when running locally.\n",
    "#     # *DO NOT* leave this option enabled in production.\n",
    "#     os.environ[\"OAUTHLIB_INSECURE_TRANSPORT\"] = \"1\"\n",
    "\n",
    "#     api_service_name = \"youtube\"\n",
    "#     api_version = \"v3\"\n",
    "#     client_secrets_file = \"../client_secret_comedy-project-276920.json\"\n",
    "\n",
    "#     # Get credentials and create an API client\n",
    "#     flow = google_auth_oauthlib.flow.InstalledAppFlow.from_client_secrets_file(\n",
    "#         client_secrets_file, scopes)\n",
    "#     credentials = flow.run_console()\n",
    "#     youtube = googleapiclient.discovery.build(\n",
    "#         api_service_name, api_version, credentials=credentials)\n",
    "\n",
    "#     request = youtube.channels().list(\n",
    "#         part=\"snippet,contentDetails,statistics\",\n",
    "#         id=\"XXXX\"\n",
    "#     )\n",
    "#     response = request.execute()\n",
    "\n",
    "#     print(response)\n",
    "\n",
    "# if __name__ == \"__main__\":\n",
    "#     main()"
   ]
  }
 ],
 "metadata": {
  "kernelspec": {
   "display_name": "Python 3",
   "language": "python",
   "name": "python3"
  },
  "language_info": {
   "codemirror_mode": {
    "name": "ipython",
    "version": 3
   },
   "file_extension": ".py",
   "mimetype": "text/x-python",
   "name": "python",
   "nbconvert_exporter": "python",
   "pygments_lexer": "ipython3",
   "version": "3.7.4"
  }
 },
 "nbformat": 4,
 "nbformat_minor": 2
}
