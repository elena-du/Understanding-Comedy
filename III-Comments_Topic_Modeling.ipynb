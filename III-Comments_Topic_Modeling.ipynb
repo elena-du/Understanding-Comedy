{
 "cells": [
  {
   "cell_type": "code",
   "execution_count": 414,
   "metadata": {},
   "outputs": [],
   "source": [
    "import pickle \n",
    "\n",
    "import nltk\n",
    "#nltk.download()\n",
    "from nltk.tokenize import word_tokenize\n",
    "from nltk.corpus import stopwords\n",
    "\n",
    "from nltk.stem.lancaster import LancasterStemmer\n",
    "from nltk.stem import PorterStemmer\n",
    "from nltk.stem.snowball import SnowballStemmer\n",
    "\n",
    "import pandas as pd\n",
    "\n",
    "import re\n",
    "import string\n",
    "\n",
    "from sklearn.feature_extraction.text import CountVectorizer \n",
    "from sklearn.decomposition import TruncatedSVD\n",
    "from sklearn.decomposition import NMF\n",
    "from sklearn.metrics.pairwise import cosine_similarity\n",
    "\n",
    "from sklearn.decomposition import LatentDirichletAllocation"
   ]
  },
  {
   "cell_type": "markdown",
   "metadata": {},
   "source": [
    "# Get Data"
   ]
  },
  {
   "cell_type": "code",
   "execution_count": 415,
   "metadata": {},
   "outputs": [],
   "source": [
    "with open('video_id_comments_bulk_df.pkl', 'rb') as picklefile:\n",
    "    df = pickle.load(picklefile)"
   ]
  },
  {
   "cell_type": "code",
   "execution_count": 416,
   "metadata": {},
   "outputs": [],
   "source": [
    "#with open('video_id_comments_bulk_df_2.pkl', 'rb') as picklefile:\n",
    "#    df2 = pickle.load(picklefile)"
   ]
  },
  {
   "cell_type": "code",
   "execution_count": 420,
   "metadata": {},
   "outputs": [
    {
     "data": {
      "text/html": [
       "<div>\n",
       "<style scoped>\n",
       "    .dataframe tbody tr th:only-of-type {\n",
       "        vertical-align: middle;\n",
       "    }\n",
       "\n",
       "    .dataframe tbody tr th {\n",
       "        vertical-align: top;\n",
       "    }\n",
       "\n",
       "    .dataframe thead th {\n",
       "        text-align: right;\n",
       "    }\n",
       "</style>\n",
       "<table border=\"1\" class=\"dataframe\">\n",
       "  <thead>\n",
       "    <tr style=\"text-align: right;\">\n",
       "      <th></th>\n",
       "      <th>video_id</th>\n",
       "      <th>comments</th>\n",
       "    </tr>\n",
       "  </thead>\n",
       "  <tbody>\n",
       "    <tr>\n",
       "      <td>0</td>\n",
       "      <td>-6Li2qT0ZkI</td>\n",
       "      <td>{Greetings from UK.. I love your videos ! Your...</td>\n",
       "    </tr>\n",
       "    <tr>\n",
       "      <td>1</td>\n",
       "      <td>-CCW4Xnp_sQ</td>\n",
       "      <td>{Same problem over here Randy, only with less ...</td>\n",
       "    </tr>\n",
       "    <tr>\n",
       "      <td>2</td>\n",
       "      <td>-Cg1jBuYZYM</td>\n",
       "      <td>{Kuch jahilo se toh kutte Jada samjhdar hai, 😄...</td>\n",
       "    </tr>\n",
       "    <tr>\n",
       "      <td>3</td>\n",
       "      <td>-LAaN5VnTDo</td>\n",
       "      <td>{Where the vid where the Italian people in the...</td>\n",
       "    </tr>\n",
       "    <tr>\n",
       "      <td>4</td>\n",
       "      <td>-skA4GhVX7k</td>\n",
       "      <td>{Love yo ass. Hope you’re okay. Remember to us...</td>\n",
       "    </tr>\n",
       "  </tbody>\n",
       "</table>\n",
       "</div>"
      ],
      "text/plain": [
       "      video_id                                           comments\n",
       "0  -6Li2qT0ZkI  {Greetings from UK.. I love your videos ! Your...\n",
       "1  -CCW4Xnp_sQ  {Same problem over here Randy, only with less ...\n",
       "2  -Cg1jBuYZYM  {Kuch jahilo se toh kutte Jada samjhdar hai, 😄...\n",
       "3  -LAaN5VnTDo  {Where the vid where the Italian people in the...\n",
       "4  -skA4GhVX7k  {Love yo ass. Hope you’re okay. Remember to us..."
      ]
     },
     "execution_count": 420,
     "metadata": {},
     "output_type": "execute_result"
    }
   ],
   "source": [
    "df.head()"
   ]
  },
  {
   "cell_type": "code",
   "execution_count": 418,
   "metadata": {},
   "outputs": [
    {
     "data": {
      "text/plain": [
       "496"
      ]
     },
     "execution_count": 418,
     "metadata": {},
     "output_type": "execute_result"
    }
   ],
   "source": [
    "len(df)"
   ]
  },
  {
   "cell_type": "code",
   "execution_count": 419,
   "metadata": {},
   "outputs": [],
   "source": [
    "#move to II\n",
    "df.reset_index(inplace=True)\n",
    "df.rename(columns={'snippet.topLevelComment.snippet.textDisplay': 'comments', 'snippet.videoId':'video_id'}, inplace=True)"
   ]
  },
  {
   "cell_type": "markdown",
   "metadata": {},
   "source": [
    "# Text Preprocessing"
   ]
  },
  {
   "cell_type": "code",
   "execution_count": 381,
   "metadata": {},
   "outputs": [],
   "source": [
    "#stemmer=LancasterStemmer()\n",
    "#porter=PorterStemmer()"
   ]
  },
  {
   "cell_type": "code",
   "execution_count": 421,
   "metadata": {},
   "outputs": [],
   "source": [
    "englishStemmer=SnowballStemmer(\"english\", ignore_stopwords=True)\n",
    "def stemComment(comment_line):\n",
    "    token_words=word_tokenize(comment_line)\n",
    "    stem_line=[]\n",
    "    for word in token_words:\n",
    "        stem_line.append(englishStemmer.stem(word))\n",
    "        stem_line.append(\" \")\n",
    "    return \"\".join(stem_line)"
   ]
  },
  {
   "cell_type": "code",
   "execution_count": 422,
   "metadata": {},
   "outputs": [],
   "source": [
    "stop_words = set(stopwords.words('english'))\n",
    "\n",
    "def remove_stop_words(comment_line):\n",
    "    token_words=word_tokenize(comment_line)\n",
    "    filtered_comment_line = [w for w in token_words if not w in stop_words] \n",
    "    \n",
    "    return \" \".join(filtered_comment_line)"
   ]
  },
  {
   "cell_type": "code",
   "execution_count": 423,
   "metadata": {},
   "outputs": [],
   "source": [
    "alphanumeric = lambda x: re.sub('\\w*\\d\\w*', ' ', x)\n",
    "punc_lower = lambda x: re.sub('[%s]' % re.escape(string.punctuation), ' ', x.lower())"
   ]
  },
  {
   "cell_type": "code",
   "execution_count": 424,
   "metadata": {},
   "outputs": [],
   "source": [
    "df['comments'] = df['comments'].map(remove_stop_words).map(alphanumeric).map(punc_lower)"
   ]
  },
  {
   "cell_type": "code",
   "execution_count": 425,
   "metadata": {},
   "outputs": [],
   "source": [
    "#https://stackoverflow.com/questions/29270917/removing-custom-stop-words-form-a-phrase-in-python\n",
    "my_stop_words_lst = ['br', 'https', 'http', 'youtu', 'href', 'com', 'video', 'www', 'youtube', \n",
    "                    'watch', 'nice', 'don', 'shall', 'virus', 'just', 'corona', 'coronavirus', 'covid',\n",
    "                     'love', 'like', \n",
    "                     'aaaaaaaaaaaaaaaaaaaaaaaaaaaaaaaaaaaaaaaaaaaaaaaaaaaaaaaaaaaaaaaaaaaaaaaaaaaaaaaaaaaaaaaaaaaaaaaaaaaaaaaaaaaaaaaaaaaaaaaaaaaaaaaaaaaaaaaaaaaaaaaaaaaaaaaaaaaaaaaaaaaaaaaaaaaaaaaaaaaaaaaaaaaaaaaaaaaaaaaaaaaaaaaaaaaaaaaaaaaaaaaa',\n",
    "                    ]\n",
    "\n",
    "for w in my_stop_words_lst:\n",
    "    pattern = r'\\b'+w+r'\\b'\n",
    "    custom_stop = lambda x: re.sub(pattern, ' ', x)\n",
    "    df['comments'] = df['comments'].map(custom_stop)"
   ]
  },
  {
   "cell_type": "code",
   "execution_count": 426,
   "metadata": {},
   "outputs": [],
   "source": [
    "#stemSentence('Greetings from UK.. I love your videos' )"
   ]
  },
  {
   "cell_type": "code",
   "execution_count": 427,
   "metadata": {},
   "outputs": [],
   "source": [
    "df['comments'] = df['comments'].map(stemComment)"
   ]
  },
  {
   "cell_type": "code",
   "execution_count": 428,
   "metadata": {},
   "outputs": [
    {
     "data": {
      "text/html": [
       "<div>\n",
       "<style scoped>\n",
       "    .dataframe tbody tr th:only-of-type {\n",
       "        vertical-align: middle;\n",
       "    }\n",
       "\n",
       "    .dataframe tbody tr th {\n",
       "        vertical-align: top;\n",
       "    }\n",
       "\n",
       "    .dataframe thead th {\n",
       "        text-align: right;\n",
       "    }\n",
       "</style>\n",
       "<table border=\"1\" class=\"dataframe\">\n",
       "  <thead>\n",
       "    <tr style=\"text-align: right;\">\n",
       "      <th></th>\n",
       "      <th>video_id</th>\n",
       "      <th>comments</th>\n",
       "    </tr>\n",
       "  </thead>\n",
       "  <tbody>\n",
       "    <tr>\n",
       "      <td>0</td>\n",
       "      <td>-6Li2qT0ZkI</td>\n",
       "      <td>greet uk i video your dialect uniqu articul pl...</td>\n",
       "    </tr>\n",
       "    <tr>\n",
       "      <td>1</td>\n",
       "      <td>-CCW4Xnp_sQ</td>\n",
       "      <td>same problem randi less chin tut tut brilliant...</td>\n",
       "    </tr>\n",
       "    <tr>\n",
       "      <td>2</td>\n",
       "      <td>-Cg1jBuYZYM</td>\n",
       "      <td>kuch jahilo se toh kutt jada samjhdar hai 😄😄😄😄...</td>\n",
       "    </tr>\n",
       "    <tr>\n",
       "      <td>3</td>\n",
       "      <td>-LAaN5VnTDo</td>\n",
       "      <td>where vid italian peopl neighborhood sing anim...</td>\n",
       "    </tr>\n",
       "    <tr>\n",
       "      <td>4</td>\n",
       "      <td>-skA4GhVX7k</td>\n",
       "      <td>yo ass hope ’ okay rememb use suppositori gave...</td>\n",
       "    </tr>\n",
       "  </tbody>\n",
       "</table>\n",
       "</div>"
      ],
      "text/plain": [
       "      video_id                                           comments\n",
       "0  -6Li2qT0ZkI  greet uk i video your dialect uniqu articul pl...\n",
       "1  -CCW4Xnp_sQ  same problem randi less chin tut tut brilliant...\n",
       "2  -Cg1jBuYZYM  kuch jahilo se toh kutt jada samjhdar hai 😄😄😄😄...\n",
       "3  -LAaN5VnTDo  where vid italian peopl neighborhood sing anim...\n",
       "4  -skA4GhVX7k  yo ass hope ’ okay rememb use suppositori gave..."
      ]
     },
     "execution_count": 428,
     "metadata": {},
     "output_type": "execute_result"
    }
   ],
   "source": [
    "df.head()"
   ]
  },
  {
   "cell_type": "code",
   "execution_count": 429,
   "metadata": {},
   "outputs": [
    {
     "data": {
      "text/plain": [
       "'same problem randi less chin tut tut brilliant brilliant say brilliant randi rainbow presid what ’ bet dislik southern lol 🤣 god bless randi rainbow genius truth teller we need ‘ randi rainbow ’ tragic trump puke face penc fiasco kill thousand american you love right point 😘😘😘😘😘 the lie liar lie tell we want novemb the open line b floor die laughter b bravo randi you gurl randi rainbow god work randi funni talent thank ’ servic fabulosoooooo 💗❤💕👌😄 he sassi version disney u give me hope that i will smile again and be back to being more concern of random shoot hit n run serious would take daili wake um quot quot presid quot quot bwteen human unspecifi speci i prefer u randi than a channel that is now play crypt code with my post ty randi say world think btw im aussi dislik his nasti immor way shot vice mannequin mr penc i wonder mani peopl work lyric if wow everyon spam donald trump twitter honest thing busi randi rainbow song give clear messag stupid dumb till tendon show 😷 🤣😂🤣😂🤣😂🤣😂 mr randi rainbow what would we do without you 🤔 '"
      ]
     },
     "execution_count": 429,
     "metadata": {},
     "output_type": "execute_result"
    }
   ],
   "source": [
    "df['comments'][1]"
   ]
  },
  {
   "cell_type": "markdown",
   "metadata": {},
   "source": [
    "# Build Document-Term matrix"
   ]
  },
  {
   "cell_type": "code",
   "execution_count": 430,
   "metadata": {},
   "outputs": [
    {
     "data": {
      "text/plain": [
       "<496x10343 sparse matrix of type '<class 'numpy.int64'>'\n",
       "\twith 35952 stored elements in Compressed Sparse Row format>"
      ]
     },
     "execution_count": 430,
     "metadata": {},
     "output_type": "execute_result"
    }
   ],
   "source": [
    "vectorizer = CountVectorizer(stop_words='english') \n",
    "doc_word = vectorizer.fit_transform(list(df.comments))\n",
    "doc_word"
   ]
  },
  {
   "cell_type": "code",
   "execution_count": 431,
   "metadata": {},
   "outputs": [
    {
     "data": {
      "text/plain": [
       "(496, 10343)"
      ]
     },
     "execution_count": 431,
     "metadata": {},
     "output_type": "execute_result"
    }
   ],
   "source": [
    "pd.DataFrame(doc_word.toarray(), columns=vectorizer.get_feature_names()).shape"
   ]
  },
  {
   "cell_type": "code",
   "execution_count": 433,
   "metadata": {},
   "outputs": [],
   "source": [
    "dtm = pd.DataFrame(doc_word.toarray(), index=df['video_id'], columns=vectorizer.get_feature_names())"
   ]
  },
  {
   "cell_type": "markdown",
   "metadata": {},
   "source": [
    "# Topic Modeling"
   ]
  },
  {
   "cell_type": "code",
   "execution_count": 434,
   "metadata": {},
   "outputs": [],
   "source": [
    "def display_topics(model, feature_names, no_top_words, topic_names=None):\n",
    "    for ix, topic in enumerate(model.components_):\n",
    "        if not topic_names or not topic_names[ix]:\n",
    "            print(\"\\nTopic \", ix)\n",
    "        else:\n",
    "            print(\"\\nTopic: '\",topic_names[ix],\"'\")\n",
    "        print(\", \".join([feature_names[i]\n",
    "                        for i in topic.argsort()[:-no_top_words - 1:-1]]))\n"
   ]
  },
  {
   "cell_type": "markdown",
   "metadata": {},
   "source": [
    "### Latent Semantic Analysis (LSA)"
   ]
  },
  {
   "cell_type": "code",
   "execution_count": 435,
   "metadata": {},
   "outputs": [
    {
     "data": {
      "text/plain": [
       "array([0.1223746 , 0.04737919, 0.02751112, 0.02625209, 0.02374624])"
      ]
     },
     "execution_count": 435,
     "metadata": {},
     "output_type": "execute_result"
    }
   ],
   "source": [
    "lsa = TruncatedSVD(5)\n",
    "doc_topic = lsa.fit_transform(dtm)\n",
    "lsa.explained_variance_ratio_"
   ]
  },
  {
   "cell_type": "code",
   "execution_count": 436,
   "metadata": {},
   "outputs": [
    {
     "data": {
      "text/html": [
       "<div>\n",
       "<style scoped>\n",
       "    .dataframe tbody tr th:only-of-type {\n",
       "        vertical-align: middle;\n",
       "    }\n",
       "\n",
       "    .dataframe tbody tr th {\n",
       "        vertical-align: top;\n",
       "    }\n",
       "\n",
       "    .dataframe thead th {\n",
       "        text-align: right;\n",
       "    }\n",
       "</style>\n",
       "<table border=\"1\" class=\"dataframe\">\n",
       "  <thead>\n",
       "    <tr style=\"text-align: right;\">\n",
       "      <th></th>\n",
       "      <th>aa</th>\n",
       "      <th>aaa</th>\n",
       "      <th>aaaaaaaaaahhhh</th>\n",
       "      <th>aaaaacchoooo</th>\n",
       "      <th>aaat</th>\n",
       "      <th>aab</th>\n",
       "      <th>aaccha</th>\n",
       "      <th>aag</th>\n",
       "      <th>aai</th>\n",
       "      <th>aaj</th>\n",
       "      <th>...</th>\n",
       "      <th>빡빡</th>\n",
       "      <th>어뎐더머</th>\n",
       "      <th>𝚌𝚘𝚖𝚎𝚍𝚢</th>\n",
       "      <th>𝚍𝚒𝚍</th>\n",
       "      <th>𝚕𝚒𝚟𝚎</th>\n",
       "      <th>𝚕𝚘𝚟𝚎</th>\n",
       "      <th>𝚖𝚊𝚛𝚔𝚊𝚗𝚐𝚎𝚕</th>\n",
       "      <th>𝚠𝚑𝚒𝚕𝚎</th>\n",
       "      <th>𝚢𝚘𝚞</th>\n",
       "      <th>𝚢𝚘𝚞𝚛</th>\n",
       "    </tr>\n",
       "  </thead>\n",
       "  <tbody>\n",
       "    <tr>\n",
       "      <td>component_1</td>\n",
       "      <td>0.001</td>\n",
       "      <td>0.000</td>\n",
       "      <td>0.000</td>\n",
       "      <td>0.000</td>\n",
       "      <td>0.000</td>\n",
       "      <td>0.0</td>\n",
       "      <td>0.000</td>\n",
       "      <td>0.001</td>\n",
       "      <td>0.000</td>\n",
       "      <td>0.001</td>\n",
       "      <td>...</td>\n",
       "      <td>0.000</td>\n",
       "      <td>0.0</td>\n",
       "      <td>0.0</td>\n",
       "      <td>0.0</td>\n",
       "      <td>0.0</td>\n",
       "      <td>0.0</td>\n",
       "      <td>0.0</td>\n",
       "      <td>0.0</td>\n",
       "      <td>0.0</td>\n",
       "      <td>0.0</td>\n",
       "    </tr>\n",
       "    <tr>\n",
       "      <td>component_2</td>\n",
       "      <td>-0.002</td>\n",
       "      <td>-0.000</td>\n",
       "      <td>-0.000</td>\n",
       "      <td>-0.000</td>\n",
       "      <td>-0.000</td>\n",
       "      <td>-0.0</td>\n",
       "      <td>-0.000</td>\n",
       "      <td>-0.002</td>\n",
       "      <td>-0.000</td>\n",
       "      <td>-0.002</td>\n",
       "      <td>...</td>\n",
       "      <td>-0.000</td>\n",
       "      <td>0.0</td>\n",
       "      <td>-0.0</td>\n",
       "      <td>-0.0</td>\n",
       "      <td>-0.0</td>\n",
       "      <td>-0.0</td>\n",
       "      <td>-0.0</td>\n",
       "      <td>-0.0</td>\n",
       "      <td>-0.0</td>\n",
       "      <td>-0.0</td>\n",
       "    </tr>\n",
       "    <tr>\n",
       "      <td>component_3</td>\n",
       "      <td>-0.005</td>\n",
       "      <td>-0.000</td>\n",
       "      <td>-0.001</td>\n",
       "      <td>0.000</td>\n",
       "      <td>-0.001</td>\n",
       "      <td>-0.0</td>\n",
       "      <td>-0.001</td>\n",
       "      <td>-0.001</td>\n",
       "      <td>-0.001</td>\n",
       "      <td>-0.003</td>\n",
       "      <td>...</td>\n",
       "      <td>-0.001</td>\n",
       "      <td>-0.0</td>\n",
       "      <td>-0.0</td>\n",
       "      <td>-0.0</td>\n",
       "      <td>-0.0</td>\n",
       "      <td>-0.0</td>\n",
       "      <td>-0.0</td>\n",
       "      <td>-0.0</td>\n",
       "      <td>-0.0</td>\n",
       "      <td>-0.0</td>\n",
       "    </tr>\n",
       "    <tr>\n",
       "      <td>component_4</td>\n",
       "      <td>0.013</td>\n",
       "      <td>0.001</td>\n",
       "      <td>-0.000</td>\n",
       "      <td>-0.001</td>\n",
       "      <td>0.002</td>\n",
       "      <td>0.0</td>\n",
       "      <td>0.003</td>\n",
       "      <td>0.011</td>\n",
       "      <td>0.002</td>\n",
       "      <td>0.010</td>\n",
       "      <td>...</td>\n",
       "      <td>-0.000</td>\n",
       "      <td>0.0</td>\n",
       "      <td>0.0</td>\n",
       "      <td>0.0</td>\n",
       "      <td>0.0</td>\n",
       "      <td>0.0</td>\n",
       "      <td>0.0</td>\n",
       "      <td>0.0</td>\n",
       "      <td>0.0</td>\n",
       "      <td>0.0</td>\n",
       "    </tr>\n",
       "    <tr>\n",
       "      <td>component_5</td>\n",
       "      <td>-0.007</td>\n",
       "      <td>-0.000</td>\n",
       "      <td>0.000</td>\n",
       "      <td>-0.000</td>\n",
       "      <td>-0.001</td>\n",
       "      <td>-0.0</td>\n",
       "      <td>-0.001</td>\n",
       "      <td>-0.007</td>\n",
       "      <td>-0.001</td>\n",
       "      <td>-0.005</td>\n",
       "      <td>...</td>\n",
       "      <td>0.000</td>\n",
       "      <td>0.0</td>\n",
       "      <td>0.0</td>\n",
       "      <td>0.0</td>\n",
       "      <td>0.0</td>\n",
       "      <td>0.0</td>\n",
       "      <td>0.0</td>\n",
       "      <td>0.0</td>\n",
       "      <td>0.0</td>\n",
       "      <td>0.0</td>\n",
       "    </tr>\n",
       "  </tbody>\n",
       "</table>\n",
       "<p>5 rows × 10343 columns</p>\n",
       "</div>"
      ],
      "text/plain": [
       "                aa    aaa  aaaaaaaaaahhhh  aaaaacchoooo   aaat  aab  aaccha  \\\n",
       "component_1  0.001  0.000           0.000         0.000  0.000  0.0   0.000   \n",
       "component_2 -0.002 -0.000          -0.000        -0.000 -0.000 -0.0  -0.000   \n",
       "component_3 -0.005 -0.000          -0.001         0.000 -0.001 -0.0  -0.001   \n",
       "component_4  0.013  0.001          -0.000        -0.001  0.002  0.0   0.003   \n",
       "component_5 -0.007 -0.000           0.000        -0.000 -0.001 -0.0  -0.001   \n",
       "\n",
       "               aag    aai    aaj  ...     빡빡  어뎐더머  𝚌𝚘𝚖𝚎𝚍𝚢  𝚍𝚒𝚍  𝚕𝚒𝚟𝚎  𝚕𝚘𝚟𝚎  \\\n",
       "component_1  0.001  0.000  0.001  ...  0.000   0.0     0.0  0.0   0.0   0.0   \n",
       "component_2 -0.002 -0.000 -0.002  ... -0.000   0.0    -0.0 -0.0  -0.0  -0.0   \n",
       "component_3 -0.001 -0.001 -0.003  ... -0.001  -0.0    -0.0 -0.0  -0.0  -0.0   \n",
       "component_4  0.011  0.002  0.010  ... -0.000   0.0     0.0  0.0   0.0   0.0   \n",
       "component_5 -0.007 -0.001 -0.005  ...  0.000   0.0     0.0  0.0   0.0   0.0   \n",
       "\n",
       "             𝚖𝚊𝚛𝚔𝚊𝚗𝚐𝚎𝚕  𝚠𝚑𝚒𝚕𝚎  𝚢𝚘𝚞  𝚢𝚘𝚞𝚛  \n",
       "component_1        0.0    0.0  0.0   0.0  \n",
       "component_2       -0.0   -0.0 -0.0  -0.0  \n",
       "component_3       -0.0   -0.0 -0.0  -0.0  \n",
       "component_4        0.0    0.0  0.0   0.0  \n",
       "component_5        0.0    0.0  0.0   0.0  \n",
       "\n",
       "[5 rows x 10343 columns]"
      ]
     },
     "execution_count": 436,
     "metadata": {},
     "output_type": "execute_result"
    }
   ],
   "source": [
    "topic_word = pd.DataFrame(lsa.components_.round(3),\n",
    "             index = [\"component_1\",\"component_2\", \"component_3\",\"component_4\", \"component_5\"],\n",
    "             columns = vectorizer.get_feature_names())\n",
    "topic_word"
   ]
  },
  {
   "cell_type": "code",
   "execution_count": 437,
   "metadata": {},
   "outputs": [
    {
     "name": "stdout",
     "output_type": "stream",
     "text": [
      "\n",
      "Topic  0\n",
      "peopl, quot, world, god, time, amp, know, good, make, trump, look, come, great, say, govern\n",
      "\n",
      "Topic  1\n",
      "god, world, believ, beast, earth, greek, church, rev, come, antichrist, fg, easter, deceiv, jesus, word\n",
      "\n",
      "Topic  2\n",
      "peopl, china, govern, trump, countri, blame, god, white, death, jamaican, politician, west, jamaica, america, corrupt\n",
      "\n",
      "Topic  3\n",
      "hai, polic, ko, god, govern, india, ki, jamaican, se, bhi, politician, jamaica, ka, ye, ho\n",
      "\n",
      "Topic  4\n",
      "god, govern, jamaican, politician, corrupt, jamaica, thank, funni, follow, pharaoh, life, need, song, laugh, stay\n"
     ]
    }
   ],
   "source": [
    "display_topics(lsa, vectorizer.get_feature_names(), 15)"
   ]
  },
  {
   "cell_type": "code",
   "execution_count": 438,
   "metadata": {},
   "outputs": [
    {
     "data": {
      "text/plain": [
       "array([11.60979868, -2.54190063,  5.58639827,  1.99213588,  1.26193309])"
      ]
     },
     "execution_count": 438,
     "metadata": {},
     "output_type": "execute_result"
    }
   ],
   "source": [
    "doc_topic_lsa.values[0]"
   ]
  },
  {
   "cell_type": "code",
   "execution_count": 439,
   "metadata": {},
   "outputs": [
    {
     "data": {
      "text/plain": [
       "array([[ 8.59314658e-04,  6.17811859e-05,  1.94607477e-04, ...,\n",
       "         1.29832157e-04,  1.29832157e-04,  1.29832157e-04],\n",
       "       [-2.40756576e-03, -1.57509702e-04, -3.20121141e-04, ...,\n",
       "        -2.00739288e-04, -2.00739288e-04, -2.00739288e-04],\n",
       "       [-4.54650307e-03, -2.47061698e-04, -6.78593185e-04, ...,\n",
       "        -4.45400873e-04, -4.45400873e-04, -4.45400873e-04],\n",
       "       [ 1.30882376e-02,  6.42974789e-04, -2.39772710e-05, ...,\n",
       "         1.75141570e-04,  1.75141570e-04,  1.75141570e-04],\n",
       "       [-6.83825627e-03, -2.78207516e-04,  3.11205294e-04, ...,\n",
       "         3.63147437e-04,  3.63147437e-04,  3.63147437e-04]])"
      ]
     },
     "execution_count": 439,
     "metadata": {},
     "output_type": "execute_result"
    }
   ],
   "source": [
    "lsa.components_"
   ]
  },
  {
   "cell_type": "code",
   "execution_count": 440,
   "metadata": {},
   "outputs": [
    {
     "data": {
      "text/html": [
       "<div>\n",
       "<style scoped>\n",
       "    .dataframe tbody tr th:only-of-type {\n",
       "        vertical-align: middle;\n",
       "    }\n",
       "\n",
       "    .dataframe tbody tr th {\n",
       "        vertical-align: top;\n",
       "    }\n",
       "\n",
       "    .dataframe thead th {\n",
       "        text-align: right;\n",
       "    }\n",
       "</style>\n",
       "<table border=\"1\" class=\"dataframe\">\n",
       "  <thead>\n",
       "    <tr style=\"text-align: right;\">\n",
       "      <th></th>\n",
       "      <th>component_1</th>\n",
       "      <th>component_2</th>\n",
       "      <th>component_3</th>\n",
       "      <th>component_4</th>\n",
       "      <th>component_5</th>\n",
       "    </tr>\n",
       "    <tr>\n",
       "      <th>video_id</th>\n",
       "      <th></th>\n",
       "      <th></th>\n",
       "      <th></th>\n",
       "      <th></th>\n",
       "      <th></th>\n",
       "    </tr>\n",
       "  </thead>\n",
       "  <tbody>\n",
       "    <tr>\n",
       "      <td>-6Li2qT0ZkI</td>\n",
       "      <td>11.609798</td>\n",
       "      <td>-2.541641</td>\n",
       "      <td>5.597281</td>\n",
       "      <td>1.977983</td>\n",
       "      <td>1.279138</td>\n",
       "    </tr>\n",
       "    <tr>\n",
       "      <td>-CCW4Xnp_sQ</td>\n",
       "      <td>5.013508</td>\n",
       "      <td>-0.664213</td>\n",
       "      <td>-0.730655</td>\n",
       "      <td>-1.433681</td>\n",
       "      <td>0.460213</td>\n",
       "    </tr>\n",
       "    <tr>\n",
       "      <td>-Cg1jBuYZYM</td>\n",
       "      <td>0.055430</td>\n",
       "      <td>-0.113917</td>\n",
       "      <td>-0.061930</td>\n",
       "      <td>0.580788</td>\n",
       "      <td>-0.396235</td>\n",
       "    </tr>\n",
       "    <tr>\n",
       "      <td>-LAaN5VnTDo</td>\n",
       "      <td>5.062876</td>\n",
       "      <td>-2.060751</td>\n",
       "      <td>-1.970809</td>\n",
       "      <td>-0.870109</td>\n",
       "      <td>0.452020</td>\n",
       "    </tr>\n",
       "    <tr>\n",
       "      <td>-skA4GhVX7k</td>\n",
       "      <td>3.885162</td>\n",
       "      <td>-1.092680</td>\n",
       "      <td>-0.758483</td>\n",
       "      <td>-0.986067</td>\n",
       "      <td>0.069929</td>\n",
       "    </tr>\n",
       "    <tr>\n",
       "      <td>...</td>\n",
       "      <td>...</td>\n",
       "      <td>...</td>\n",
       "      <td>...</td>\n",
       "      <td>...</td>\n",
       "      <td>...</td>\n",
       "    </tr>\n",
       "    <tr>\n",
       "      <td>yt5vLJpy_sw</td>\n",
       "      <td>1.042221</td>\n",
       "      <td>-1.020226</td>\n",
       "      <td>-1.335610</td>\n",
       "      <td>0.400347</td>\n",
       "      <td>0.944982</td>\n",
       "    </tr>\n",
       "    <tr>\n",
       "      <td>zJD7DImCThk</td>\n",
       "      <td>6.170190</td>\n",
       "      <td>-1.906691</td>\n",
       "      <td>-2.527261</td>\n",
       "      <td>-0.821817</td>\n",
       "      <td>0.852193</td>\n",
       "    </tr>\n",
       "    <tr>\n",
       "      <td>zTMlWzMe-h8</td>\n",
       "      <td>2.416103</td>\n",
       "      <td>-1.295802</td>\n",
       "      <td>-0.181443</td>\n",
       "      <td>0.130939</td>\n",
       "      <td>0.262855</td>\n",
       "    </tr>\n",
       "    <tr>\n",
       "      <td>zqOMkTvqaDY</td>\n",
       "      <td>1.395695</td>\n",
       "      <td>0.023629</td>\n",
       "      <td>-0.979471</td>\n",
       "      <td>-0.950793</td>\n",
       "      <td>-0.391154</td>\n",
       "    </tr>\n",
       "    <tr>\n",
       "      <td>zqolMo_nv5U</td>\n",
       "      <td>0.028875</td>\n",
       "      <td>-0.036449</td>\n",
       "      <td>-0.065237</td>\n",
       "      <td>0.009766</td>\n",
       "      <td>0.038764</td>\n",
       "    </tr>\n",
       "  </tbody>\n",
       "</table>\n",
       "<p>496 rows × 5 columns</p>\n",
       "</div>"
      ],
      "text/plain": [
       "             component_1  component_2  component_3  component_4  component_5\n",
       "video_id                                                                    \n",
       "-6Li2qT0ZkI    11.609798    -2.541641     5.597281     1.977983     1.279138\n",
       "-CCW4Xnp_sQ     5.013508    -0.664213    -0.730655    -1.433681     0.460213\n",
       "-Cg1jBuYZYM     0.055430    -0.113917    -0.061930     0.580788    -0.396235\n",
       "-LAaN5VnTDo     5.062876    -2.060751    -1.970809    -0.870109     0.452020\n",
       "-skA4GhVX7k     3.885162    -1.092680    -0.758483    -0.986067     0.069929\n",
       "...                  ...          ...          ...          ...          ...\n",
       "yt5vLJpy_sw     1.042221    -1.020226    -1.335610     0.400347     0.944982\n",
       "zJD7DImCThk     6.170190    -1.906691    -2.527261    -0.821817     0.852193\n",
       "zTMlWzMe-h8     2.416103    -1.295802    -0.181443     0.130939     0.262855\n",
       "zqOMkTvqaDY     1.395695     0.023629    -0.979471    -0.950793    -0.391154\n",
       "zqolMo_nv5U     0.028875    -0.036449    -0.065237     0.009766     0.038764\n",
       "\n",
       "[496 rows x 5 columns]"
      ]
     },
     "execution_count": 440,
     "metadata": {},
     "output_type": "execute_result"
    }
   ],
   "source": [
    "doc_topic_lsa = pd.DataFrame(doc_topic,\n",
    "                             index=df['video_id'],\n",
    "                             columns = [\"component_1\",\"component_2\", \"component_3\",\"component_4\", \"component_5\"])\n",
    "doc_topic_lsa"
   ]
  },
  {
   "cell_type": "code",
   "execution_count": 441,
   "metadata": {},
   "outputs": [
    {
     "data": {
      "text/plain": [
       "array([[1.        , 0.75329915, 0.65917892, 0.74107536, 0.33196703,\n",
       "        0.75403626],\n",
       "       [0.75329915, 1.        , 0.94443716, 0.98681935, 0.34860319,\n",
       "        0.89560995],\n",
       "       [0.65917892, 0.94443716, 1.        , 0.97653666, 0.59777773,\n",
       "        0.97153068],\n",
       "       [0.74107536, 0.98681935, 0.97653666, 1.        , 0.44466841,\n",
       "        0.93749536],\n",
       "       [0.33196703, 0.34860319, 0.59777773, 0.44466841, 1.        ,\n",
       "        0.70954623],\n",
       "       [0.75403626, 0.89560995, 0.97153068, 0.93749536, 0.70954623,\n",
       "        1.        ]])"
      ]
     },
     "execution_count": 441,
     "metadata": {},
     "output_type": "execute_result"
    }
   ],
   "source": [
    "cosine_similarity((doc_topic_lsa.values[0], \n",
    "                   doc_topic_lsa.values[1], \n",
    "                   doc_topic_lsa.values[3],  \n",
    "                   doc_topic_lsa.values[4], \n",
    "                   doc_topic_lsa.values[5], \n",
    "                   doc_topic_lsa.values[6]))"
   ]
  },
  {
   "cell_type": "code",
   "execution_count": 442,
   "metadata": {},
   "outputs": [],
   "source": [
    "#cosine_similarity((doc_topic_lsa.values[0], doc_topic_lsa.values[6]))"
   ]
  },
  {
   "cell_type": "markdown",
   "metadata": {},
   "source": [
    "### NMF (Non-Negative Matrix Factorization)"
   ]
  },
  {
   "cell_type": "code",
   "execution_count": 443,
   "metadata": {},
   "outputs": [],
   "source": [
    "nmf_model = NMF(5)\n",
    "doc_topic = nmf_model.fit_transform(doc_word)"
   ]
  },
  {
   "cell_type": "code",
   "execution_count": 444,
   "metadata": {},
   "outputs": [
    {
     "data": {
      "text/html": [
       "<div>\n",
       "<style scoped>\n",
       "    .dataframe tbody tr th:only-of-type {\n",
       "        vertical-align: middle;\n",
       "    }\n",
       "\n",
       "    .dataframe tbody tr th {\n",
       "        vertical-align: top;\n",
       "    }\n",
       "\n",
       "    .dataframe thead th {\n",
       "        text-align: right;\n",
       "    }\n",
       "</style>\n",
       "<table border=\"1\" class=\"dataframe\">\n",
       "  <thead>\n",
       "    <tr style=\"text-align: right;\">\n",
       "      <th></th>\n",
       "      <th>aa</th>\n",
       "      <th>aaa</th>\n",
       "      <th>aaaaaaaaaahhhh</th>\n",
       "      <th>aaaaacchoooo</th>\n",
       "      <th>aaat</th>\n",
       "      <th>aab</th>\n",
       "      <th>aaccha</th>\n",
       "      <th>aag</th>\n",
       "      <th>aai</th>\n",
       "      <th>aaj</th>\n",
       "      <th>...</th>\n",
       "      <th>빡빡</th>\n",
       "      <th>어뎐더머</th>\n",
       "      <th>𝚌𝚘𝚖𝚎𝚍𝚢</th>\n",
       "      <th>𝚍𝚒𝚍</th>\n",
       "      <th>𝚕𝚒𝚟𝚎</th>\n",
       "      <th>𝚕𝚘𝚟𝚎</th>\n",
       "      <th>𝚖𝚊𝚛𝚔𝚊𝚗𝚐𝚎𝚕</th>\n",
       "      <th>𝚠𝚑𝚒𝚕𝚎</th>\n",
       "      <th>𝚢𝚘𝚞</th>\n",
       "      <th>𝚢𝚘𝚞𝚛</th>\n",
       "    </tr>\n",
       "  </thead>\n",
       "  <tbody>\n",
       "    <tr>\n",
       "      <td>component_1</td>\n",
       "      <td>0.005</td>\n",
       "      <td>0.001</td>\n",
       "      <td>0.007</td>\n",
       "      <td>0.001</td>\n",
       "      <td>0.001</td>\n",
       "      <td>0.001</td>\n",
       "      <td>0.000</td>\n",
       "      <td>0.000</td>\n",
       "      <td>0.00</td>\n",
       "      <td>0.000</td>\n",
       "      <td>...</td>\n",
       "      <td>0.009</td>\n",
       "      <td>0.003</td>\n",
       "      <td>0.005</td>\n",
       "      <td>0.005</td>\n",
       "      <td>0.005</td>\n",
       "      <td>0.005</td>\n",
       "      <td>0.005</td>\n",
       "      <td>0.005</td>\n",
       "      <td>0.005</td>\n",
       "      <td>0.005</td>\n",
       "    </tr>\n",
       "    <tr>\n",
       "      <td>component_2</td>\n",
       "      <td>0.000</td>\n",
       "      <td>0.000</td>\n",
       "      <td>0.000</td>\n",
       "      <td>0.001</td>\n",
       "      <td>0.000</td>\n",
       "      <td>0.000</td>\n",
       "      <td>0.000</td>\n",
       "      <td>0.000</td>\n",
       "      <td>0.00</td>\n",
       "      <td>0.000</td>\n",
       "      <td>...</td>\n",
       "      <td>0.002</td>\n",
       "      <td>0.001</td>\n",
       "      <td>0.000</td>\n",
       "      <td>0.000</td>\n",
       "      <td>0.000</td>\n",
       "      <td>0.000</td>\n",
       "      <td>0.000</td>\n",
       "      <td>0.000</td>\n",
       "      <td>0.000</td>\n",
       "      <td>0.000</td>\n",
       "    </tr>\n",
       "    <tr>\n",
       "      <td>component_3</td>\n",
       "      <td>0.000</td>\n",
       "      <td>0.000</td>\n",
       "      <td>0.000</td>\n",
       "      <td>0.005</td>\n",
       "      <td>0.000</td>\n",
       "      <td>0.000</td>\n",
       "      <td>0.000</td>\n",
       "      <td>0.000</td>\n",
       "      <td>0.00</td>\n",
       "      <td>0.000</td>\n",
       "      <td>...</td>\n",
       "      <td>0.000</td>\n",
       "      <td>0.000</td>\n",
       "      <td>0.000</td>\n",
       "      <td>0.000</td>\n",
       "      <td>0.000</td>\n",
       "      <td>0.000</td>\n",
       "      <td>0.000</td>\n",
       "      <td>0.000</td>\n",
       "      <td>0.000</td>\n",
       "      <td>0.000</td>\n",
       "    </tr>\n",
       "    <tr>\n",
       "      <td>component_4</td>\n",
       "      <td>0.110</td>\n",
       "      <td>0.005</td>\n",
       "      <td>0.000</td>\n",
       "      <td>0.000</td>\n",
       "      <td>0.014</td>\n",
       "      <td>0.002</td>\n",
       "      <td>0.022</td>\n",
       "      <td>0.097</td>\n",
       "      <td>0.02</td>\n",
       "      <td>0.084</td>\n",
       "      <td>...</td>\n",
       "      <td>0.000</td>\n",
       "      <td>0.001</td>\n",
       "      <td>0.000</td>\n",
       "      <td>0.000</td>\n",
       "      <td>0.000</td>\n",
       "      <td>0.000</td>\n",
       "      <td>0.000</td>\n",
       "      <td>0.000</td>\n",
       "      <td>0.000</td>\n",
       "      <td>0.000</td>\n",
       "    </tr>\n",
       "    <tr>\n",
       "      <td>component_5</td>\n",
       "      <td>0.000</td>\n",
       "      <td>0.000</td>\n",
       "      <td>0.000</td>\n",
       "      <td>0.000</td>\n",
       "      <td>0.000</td>\n",
       "      <td>0.000</td>\n",
       "      <td>0.000</td>\n",
       "      <td>0.000</td>\n",
       "      <td>0.00</td>\n",
       "      <td>0.000</td>\n",
       "      <td>...</td>\n",
       "      <td>0.001</td>\n",
       "      <td>0.002</td>\n",
       "      <td>0.000</td>\n",
       "      <td>0.000</td>\n",
       "      <td>0.000</td>\n",
       "      <td>0.000</td>\n",
       "      <td>0.000</td>\n",
       "      <td>0.000</td>\n",
       "      <td>0.000</td>\n",
       "      <td>0.000</td>\n",
       "    </tr>\n",
       "  </tbody>\n",
       "</table>\n",
       "<p>5 rows × 10343 columns</p>\n",
       "</div>"
      ],
      "text/plain": [
       "                aa    aaa  aaaaaaaaaahhhh  aaaaacchoooo   aaat    aab  aaccha  \\\n",
       "component_1  0.005  0.001           0.007         0.001  0.001  0.001   0.000   \n",
       "component_2  0.000  0.000           0.000         0.001  0.000  0.000   0.000   \n",
       "component_3  0.000  0.000           0.000         0.005  0.000  0.000   0.000   \n",
       "component_4  0.110  0.005           0.000         0.000  0.014  0.002   0.022   \n",
       "component_5  0.000  0.000           0.000         0.000  0.000  0.000   0.000   \n",
       "\n",
       "               aag   aai    aaj  ...     빡빡   어뎐더머  𝚌𝚘𝚖𝚎𝚍𝚢    𝚍𝚒𝚍   𝚕𝚒𝚟𝚎  \\\n",
       "component_1  0.000  0.00  0.000  ...  0.009  0.003   0.005  0.005  0.005   \n",
       "component_2  0.000  0.00  0.000  ...  0.002  0.001   0.000  0.000  0.000   \n",
       "component_3  0.000  0.00  0.000  ...  0.000  0.000   0.000  0.000  0.000   \n",
       "component_4  0.097  0.02  0.084  ...  0.000  0.001   0.000  0.000  0.000   \n",
       "component_5  0.000  0.00  0.000  ...  0.001  0.002   0.000  0.000  0.000   \n",
       "\n",
       "              𝚕𝚘𝚟𝚎  𝚖𝚊𝚛𝚔𝚊𝚗𝚐𝚎𝚕  𝚠𝚑𝚒𝚕𝚎    𝚢𝚘𝚞   𝚢𝚘𝚞𝚛  \n",
       "component_1  0.005      0.005  0.005  0.005  0.005  \n",
       "component_2  0.000      0.000  0.000  0.000  0.000  \n",
       "component_3  0.000      0.000  0.000  0.000  0.000  \n",
       "component_4  0.000      0.000  0.000  0.000  0.000  \n",
       "component_5  0.000      0.000  0.000  0.000  0.000  \n",
       "\n",
       "[5 rows x 10343 columns]"
      ]
     },
     "execution_count": 444,
     "metadata": {},
     "output_type": "execute_result"
    }
   ],
   "source": [
    "topic_word = pd.DataFrame(nmf_model.components_.round(3),\n",
    "             index = [\"component_1\",\"component_2\", \"component_3\",\"component_4\", \"component_5\"],\n",
    "             columns = vectorizer.get_feature_names())\n",
    "topic_word"
   ]
  },
  {
   "cell_type": "code",
   "execution_count": 445,
   "metadata": {},
   "outputs": [
    {
     "name": "stdout",
     "output_type": "stream",
     "text": [
      "\n",
      "Topic  0\n",
      "quot, funni, amp, thank, good, make, time, laugh, lol, realli\n",
      "\n",
      "Topic  1\n",
      "god, world, quot, peopl, believ, come, beast, church, greek, earth\n",
      "\n",
      "Topic  2\n",
      "peopl, trump, china, countri, quot, death, blame, look, world, want\n",
      "\n",
      "Topic  3\n",
      "hai, polic, ko, india, peopl, ki, se, bhi, ye, ka\n",
      "\n",
      "Topic  4\n",
      "god, govern, jamaican, politician, corrupt, jamaica, world, pharaoh, follow, power\n"
     ]
    }
   ],
   "source": [
    "display_topics(nmf_model, vectorizer.get_feature_names(), 10)"
   ]
  },
  {
   "cell_type": "code",
   "execution_count": 446,
   "metadata": {},
   "outputs": [
    {
     "ename": "KeyError",
     "evalue": "'snippet.videoId'",
     "output_type": "error",
     "traceback": [
      "\u001b[0;31m---------------------------------------------------------------------------\u001b[0m",
      "\u001b[0;31mKeyError\u001b[0m                                  Traceback (most recent call last)",
      "\u001b[0;32m~/opt/anaconda3/lib/python3.7/site-packages/pandas/core/indexes/base.py\u001b[0m in \u001b[0;36mget_loc\u001b[0;34m(self, key, method, tolerance)\u001b[0m\n\u001b[1;32m   2896\u001b[0m             \u001b[0;32mtry\u001b[0m\u001b[0;34m:\u001b[0m\u001b[0;34m\u001b[0m\u001b[0;34m\u001b[0m\u001b[0m\n\u001b[0;32m-> 2897\u001b[0;31m                 \u001b[0;32mreturn\u001b[0m \u001b[0mself\u001b[0m\u001b[0;34m.\u001b[0m\u001b[0m_engine\u001b[0m\u001b[0;34m.\u001b[0m\u001b[0mget_loc\u001b[0m\u001b[0;34m(\u001b[0m\u001b[0mkey\u001b[0m\u001b[0;34m)\u001b[0m\u001b[0;34m\u001b[0m\u001b[0;34m\u001b[0m\u001b[0m\n\u001b[0m\u001b[1;32m   2898\u001b[0m             \u001b[0;32mexcept\u001b[0m \u001b[0mKeyError\u001b[0m\u001b[0;34m:\u001b[0m\u001b[0;34m\u001b[0m\u001b[0;34m\u001b[0m\u001b[0m\n",
      "\u001b[0;32mpandas/_libs/index.pyx\u001b[0m in \u001b[0;36mpandas._libs.index.IndexEngine.get_loc\u001b[0;34m()\u001b[0m\n",
      "\u001b[0;32mpandas/_libs/index.pyx\u001b[0m in \u001b[0;36mpandas._libs.index.IndexEngine.get_loc\u001b[0;34m()\u001b[0m\n",
      "\u001b[0;32mpandas/_libs/hashtable_class_helper.pxi\u001b[0m in \u001b[0;36mpandas._libs.hashtable.PyObjectHashTable.get_item\u001b[0;34m()\u001b[0m\n",
      "\u001b[0;32mpandas/_libs/hashtable_class_helper.pxi\u001b[0m in \u001b[0;36mpandas._libs.hashtable.PyObjectHashTable.get_item\u001b[0;34m()\u001b[0m\n",
      "\u001b[0;31mKeyError\u001b[0m: 'snippet.videoId'",
      "\nDuring handling of the above exception, another exception occurred:\n",
      "\u001b[0;31mKeyError\u001b[0m                                  Traceback (most recent call last)",
      "\u001b[0;32m<ipython-input-446-d0f1465d07ed>\u001b[0m in \u001b[0;36m<module>\u001b[0;34m\u001b[0m\n\u001b[1;32m      1\u001b[0m doc_topic_nmf = pd.DataFrame(doc_topic.round(5),\n\u001b[0;32m----> 2\u001b[0;31m                              \u001b[0mindex\u001b[0m\u001b[0;34m=\u001b[0m\u001b[0mdf\u001b[0m\u001b[0;34m[\u001b[0m\u001b[0;34m'snippet.videoId'\u001b[0m\u001b[0;34m]\u001b[0m\u001b[0;34m,\u001b[0m\u001b[0;34m\u001b[0m\u001b[0;34m\u001b[0m\u001b[0m\n\u001b[0m\u001b[1;32m      3\u001b[0m                              columns = [\"component_1\",\"component_2\", \"component_3\",\"component_4\", \"component_5\"])\n\u001b[1;32m      4\u001b[0m \u001b[0mdoc_topic_nmf\u001b[0m\u001b[0;34m\u001b[0m\u001b[0;34m\u001b[0m\u001b[0m\n",
      "\u001b[0;32m~/opt/anaconda3/lib/python3.7/site-packages/pandas/core/frame.py\u001b[0m in \u001b[0;36m__getitem__\u001b[0;34m(self, key)\u001b[0m\n\u001b[1;32m   2978\u001b[0m             \u001b[0;32mif\u001b[0m \u001b[0mself\u001b[0m\u001b[0;34m.\u001b[0m\u001b[0mcolumns\u001b[0m\u001b[0;34m.\u001b[0m\u001b[0mnlevels\u001b[0m \u001b[0;34m>\u001b[0m \u001b[0;36m1\u001b[0m\u001b[0;34m:\u001b[0m\u001b[0;34m\u001b[0m\u001b[0;34m\u001b[0m\u001b[0m\n\u001b[1;32m   2979\u001b[0m                 \u001b[0;32mreturn\u001b[0m \u001b[0mself\u001b[0m\u001b[0;34m.\u001b[0m\u001b[0m_getitem_multilevel\u001b[0m\u001b[0;34m(\u001b[0m\u001b[0mkey\u001b[0m\u001b[0;34m)\u001b[0m\u001b[0;34m\u001b[0m\u001b[0;34m\u001b[0m\u001b[0m\n\u001b[0;32m-> 2980\u001b[0;31m             \u001b[0mindexer\u001b[0m \u001b[0;34m=\u001b[0m \u001b[0mself\u001b[0m\u001b[0;34m.\u001b[0m\u001b[0mcolumns\u001b[0m\u001b[0;34m.\u001b[0m\u001b[0mget_loc\u001b[0m\u001b[0;34m(\u001b[0m\u001b[0mkey\u001b[0m\u001b[0;34m)\u001b[0m\u001b[0;34m\u001b[0m\u001b[0;34m\u001b[0m\u001b[0m\n\u001b[0m\u001b[1;32m   2981\u001b[0m             \u001b[0;32mif\u001b[0m \u001b[0mis_integer\u001b[0m\u001b[0;34m(\u001b[0m\u001b[0mindexer\u001b[0m\u001b[0;34m)\u001b[0m\u001b[0;34m:\u001b[0m\u001b[0;34m\u001b[0m\u001b[0;34m\u001b[0m\u001b[0m\n\u001b[1;32m   2982\u001b[0m                 \u001b[0mindexer\u001b[0m \u001b[0;34m=\u001b[0m \u001b[0;34m[\u001b[0m\u001b[0mindexer\u001b[0m\u001b[0;34m]\u001b[0m\u001b[0;34m\u001b[0m\u001b[0;34m\u001b[0m\u001b[0m\n",
      "\u001b[0;32m~/opt/anaconda3/lib/python3.7/site-packages/pandas/core/indexes/base.py\u001b[0m in \u001b[0;36mget_loc\u001b[0;34m(self, key, method, tolerance)\u001b[0m\n\u001b[1;32m   2897\u001b[0m                 \u001b[0;32mreturn\u001b[0m \u001b[0mself\u001b[0m\u001b[0;34m.\u001b[0m\u001b[0m_engine\u001b[0m\u001b[0;34m.\u001b[0m\u001b[0mget_loc\u001b[0m\u001b[0;34m(\u001b[0m\u001b[0mkey\u001b[0m\u001b[0;34m)\u001b[0m\u001b[0;34m\u001b[0m\u001b[0;34m\u001b[0m\u001b[0m\n\u001b[1;32m   2898\u001b[0m             \u001b[0;32mexcept\u001b[0m \u001b[0mKeyError\u001b[0m\u001b[0;34m:\u001b[0m\u001b[0;34m\u001b[0m\u001b[0;34m\u001b[0m\u001b[0m\n\u001b[0;32m-> 2899\u001b[0;31m                 \u001b[0;32mreturn\u001b[0m \u001b[0mself\u001b[0m\u001b[0;34m.\u001b[0m\u001b[0m_engine\u001b[0m\u001b[0;34m.\u001b[0m\u001b[0mget_loc\u001b[0m\u001b[0;34m(\u001b[0m\u001b[0mself\u001b[0m\u001b[0;34m.\u001b[0m\u001b[0m_maybe_cast_indexer\u001b[0m\u001b[0;34m(\u001b[0m\u001b[0mkey\u001b[0m\u001b[0;34m)\u001b[0m\u001b[0;34m)\u001b[0m\u001b[0;34m\u001b[0m\u001b[0;34m\u001b[0m\u001b[0m\n\u001b[0m\u001b[1;32m   2900\u001b[0m         \u001b[0mindexer\u001b[0m \u001b[0;34m=\u001b[0m \u001b[0mself\u001b[0m\u001b[0;34m.\u001b[0m\u001b[0mget_indexer\u001b[0m\u001b[0;34m(\u001b[0m\u001b[0;34m[\u001b[0m\u001b[0mkey\u001b[0m\u001b[0;34m]\u001b[0m\u001b[0;34m,\u001b[0m \u001b[0mmethod\u001b[0m\u001b[0;34m=\u001b[0m\u001b[0mmethod\u001b[0m\u001b[0;34m,\u001b[0m \u001b[0mtolerance\u001b[0m\u001b[0;34m=\u001b[0m\u001b[0mtolerance\u001b[0m\u001b[0;34m)\u001b[0m\u001b[0;34m\u001b[0m\u001b[0;34m\u001b[0m\u001b[0m\n\u001b[1;32m   2901\u001b[0m         \u001b[0;32mif\u001b[0m \u001b[0mindexer\u001b[0m\u001b[0;34m.\u001b[0m\u001b[0mndim\u001b[0m \u001b[0;34m>\u001b[0m \u001b[0;36m1\u001b[0m \u001b[0;32mor\u001b[0m \u001b[0mindexer\u001b[0m\u001b[0;34m.\u001b[0m\u001b[0msize\u001b[0m \u001b[0;34m>\u001b[0m \u001b[0;36m1\u001b[0m\u001b[0;34m:\u001b[0m\u001b[0;34m\u001b[0m\u001b[0;34m\u001b[0m\u001b[0m\n",
      "\u001b[0;32mpandas/_libs/index.pyx\u001b[0m in \u001b[0;36mpandas._libs.index.IndexEngine.get_loc\u001b[0;34m()\u001b[0m\n",
      "\u001b[0;32mpandas/_libs/index.pyx\u001b[0m in \u001b[0;36mpandas._libs.index.IndexEngine.get_loc\u001b[0;34m()\u001b[0m\n",
      "\u001b[0;32mpandas/_libs/hashtable_class_helper.pxi\u001b[0m in \u001b[0;36mpandas._libs.hashtable.PyObjectHashTable.get_item\u001b[0;34m()\u001b[0m\n",
      "\u001b[0;32mpandas/_libs/hashtable_class_helper.pxi\u001b[0m in \u001b[0;36mpandas._libs.hashtable.PyObjectHashTable.get_item\u001b[0;34m()\u001b[0m\n",
      "\u001b[0;31mKeyError\u001b[0m: 'snippet.videoId'"
     ]
    }
   ],
   "source": [
    "doc_topic_nmf = pd.DataFrame(doc_topic.round(5),\n",
    "                             index=df['snippet.videoId'],\n",
    "                             columns = [\"component_1\",\"component_2\", \"component_3\",\"component_4\", \"component_5\"])\n",
    "doc_topic_nmf"
   ]
  },
  {
   "cell_type": "code",
   "execution_count": 447,
   "metadata": {},
   "outputs": [
    {
     "data": {
      "text/plain": [
       "array([[1.        , 0.68465228],\n",
       "       [0.68465228, 1.        ]])"
      ]
     },
     "execution_count": 447,
     "metadata": {},
     "output_type": "execute_result"
    }
   ],
   "source": [
    "cosine_similarity((doc_topic_nmf.values[0], doc_topic_nmf.values[1]))"
   ]
  },
  {
   "cell_type": "code",
   "execution_count": 448,
   "metadata": {},
   "outputs": [
    {
     "data": {
      "text/plain": [
       "array([[1.        , 0.10847377],\n",
       "       [0.10847377, 1.        ]])"
      ]
     },
     "execution_count": 448,
     "metadata": {},
     "output_type": "execute_result"
    }
   ],
   "source": [
    "cosine_similarity((doc_topic_nmf.values[0], doc_topic_nmf.values[26]))"
   ]
  },
  {
   "cell_type": "markdown",
   "metadata": {},
   "source": [
    "### LDA"
   ]
  },
  {
   "cell_type": "code",
   "execution_count": 449,
   "metadata": {},
   "outputs": [],
   "source": [
    "lda = LatentDirichletAllocation(n_components=5)"
   ]
  },
  {
   "cell_type": "code",
   "execution_count": 450,
   "metadata": {},
   "outputs": [],
   "source": [
    "doc_topic = lda.fit_transform(dtm)\n"
   ]
  },
  {
   "cell_type": "code",
   "execution_count": 451,
   "metadata": {},
   "outputs": [
    {
     "data": {
      "text/plain": [
       "<bound method LatentDirichletAllocation.score of LatentDirichletAllocation(batch_size=128, doc_topic_prior=None,\n",
       "                          evaluate_every=-1, learning_decay=0.7,\n",
       "                          learning_method='batch', learning_offset=10.0,\n",
       "                          max_doc_update_iter=100, max_iter=10,\n",
       "                          mean_change_tol=0.001, n_components=5, n_jobs=None,\n",
       "                          perp_tol=0.1, random_state=None,\n",
       "                          topic_word_prior=None, total_samples=1000000.0,\n",
       "                          verbose=0)>"
      ]
     },
     "execution_count": 451,
     "metadata": {},
     "output_type": "execute_result"
    }
   ],
   "source": [
    "lda.score"
   ]
  },
  {
   "cell_type": "code",
   "execution_count": 452,
   "metadata": {},
   "outputs": [
    {
     "data": {
      "text/html": [
       "<div>\n",
       "<style scoped>\n",
       "    .dataframe tbody tr th:only-of-type {\n",
       "        vertical-align: middle;\n",
       "    }\n",
       "\n",
       "    .dataframe tbody tr th {\n",
       "        vertical-align: top;\n",
       "    }\n",
       "\n",
       "    .dataframe thead th {\n",
       "        text-align: right;\n",
       "    }\n",
       "</style>\n",
       "<table border=\"1\" class=\"dataframe\">\n",
       "  <thead>\n",
       "    <tr style=\"text-align: right;\">\n",
       "      <th></th>\n",
       "      <th>aa</th>\n",
       "      <th>aaa</th>\n",
       "      <th>aaaaaaaaaahhhh</th>\n",
       "      <th>aaaaacchoooo</th>\n",
       "      <th>aaat</th>\n",
       "      <th>aab</th>\n",
       "      <th>aaccha</th>\n",
       "      <th>aag</th>\n",
       "      <th>aai</th>\n",
       "      <th>aaj</th>\n",
       "      <th>...</th>\n",
       "      <th>빡빡</th>\n",
       "      <th>어뎐더머</th>\n",
       "      <th>𝚌𝚘𝚖𝚎𝚍𝚢</th>\n",
       "      <th>𝚍𝚒𝚍</th>\n",
       "      <th>𝚕𝚒𝚟𝚎</th>\n",
       "      <th>𝚕𝚘𝚟𝚎</th>\n",
       "      <th>𝚖𝚊𝚛𝚔𝚊𝚗𝚐𝚎𝚕</th>\n",
       "      <th>𝚠𝚑𝚒𝚕𝚎</th>\n",
       "      <th>𝚢𝚘𝚞</th>\n",
       "      <th>𝚢𝚘𝚞𝚛</th>\n",
       "    </tr>\n",
       "  </thead>\n",
       "  <tbody>\n",
       "    <tr>\n",
       "      <td>component_1</td>\n",
       "      <td>0.226</td>\n",
       "      <td>0.200</td>\n",
       "      <td>0.2</td>\n",
       "      <td>0.2</td>\n",
       "      <td>1.195</td>\n",
       "      <td>0.2</td>\n",
       "      <td>0.2</td>\n",
       "      <td>0.2</td>\n",
       "      <td>0.2</td>\n",
       "      <td>0.2</td>\n",
       "      <td>...</td>\n",
       "      <td>0.2</td>\n",
       "      <td>0.2</td>\n",
       "      <td>0.200</td>\n",
       "      <td>0.200</td>\n",
       "      <td>0.200</td>\n",
       "      <td>0.200</td>\n",
       "      <td>0.200</td>\n",
       "      <td>0.200</td>\n",
       "      <td>0.200</td>\n",
       "      <td>0.200</td>\n",
       "    </tr>\n",
       "    <tr>\n",
       "      <td>component_2</td>\n",
       "      <td>6.173</td>\n",
       "      <td>0.200</td>\n",
       "      <td>0.2</td>\n",
       "      <td>0.2</td>\n",
       "      <td>0.200</td>\n",
       "      <td>0.2</td>\n",
       "      <td>1.2</td>\n",
       "      <td>2.2</td>\n",
       "      <td>1.2</td>\n",
       "      <td>1.2</td>\n",
       "      <td>...</td>\n",
       "      <td>0.2</td>\n",
       "      <td>0.2</td>\n",
       "      <td>1.199</td>\n",
       "      <td>1.199</td>\n",
       "      <td>1.199</td>\n",
       "      <td>1.199</td>\n",
       "      <td>1.199</td>\n",
       "      <td>1.199</td>\n",
       "      <td>1.199</td>\n",
       "      <td>1.199</td>\n",
       "    </tr>\n",
       "    <tr>\n",
       "      <td>component_3</td>\n",
       "      <td>0.200</td>\n",
       "      <td>0.200</td>\n",
       "      <td>1.2</td>\n",
       "      <td>1.2</td>\n",
       "      <td>0.200</td>\n",
       "      <td>0.2</td>\n",
       "      <td>0.2</td>\n",
       "      <td>0.2</td>\n",
       "      <td>0.2</td>\n",
       "      <td>0.2</td>\n",
       "      <td>...</td>\n",
       "      <td>1.2</td>\n",
       "      <td>1.2</td>\n",
       "      <td>0.201</td>\n",
       "      <td>0.201</td>\n",
       "      <td>0.201</td>\n",
       "      <td>0.201</td>\n",
       "      <td>0.201</td>\n",
       "      <td>0.201</td>\n",
       "      <td>0.201</td>\n",
       "      <td>0.201</td>\n",
       "    </tr>\n",
       "    <tr>\n",
       "      <td>component_4</td>\n",
       "      <td>2.200</td>\n",
       "      <td>0.201</td>\n",
       "      <td>0.2</td>\n",
       "      <td>0.2</td>\n",
       "      <td>0.205</td>\n",
       "      <td>0.2</td>\n",
       "      <td>0.2</td>\n",
       "      <td>1.2</td>\n",
       "      <td>0.2</td>\n",
       "      <td>0.2</td>\n",
       "      <td>...</td>\n",
       "      <td>0.2</td>\n",
       "      <td>0.2</td>\n",
       "      <td>0.200</td>\n",
       "      <td>0.200</td>\n",
       "      <td>0.200</td>\n",
       "      <td>0.200</td>\n",
       "      <td>0.200</td>\n",
       "      <td>0.200</td>\n",
       "      <td>0.200</td>\n",
       "      <td>0.200</td>\n",
       "    </tr>\n",
       "    <tr>\n",
       "      <td>component_5</td>\n",
       "      <td>4.200</td>\n",
       "      <td>1.199</td>\n",
       "      <td>0.2</td>\n",
       "      <td>0.2</td>\n",
       "      <td>0.200</td>\n",
       "      <td>1.2</td>\n",
       "      <td>0.2</td>\n",
       "      <td>0.2</td>\n",
       "      <td>0.2</td>\n",
       "      <td>3.2</td>\n",
       "      <td>...</td>\n",
       "      <td>0.2</td>\n",
       "      <td>0.2</td>\n",
       "      <td>0.200</td>\n",
       "      <td>0.200</td>\n",
       "      <td>0.200</td>\n",
       "      <td>0.200</td>\n",
       "      <td>0.200</td>\n",
       "      <td>0.200</td>\n",
       "      <td>0.200</td>\n",
       "      <td>0.200</td>\n",
       "    </tr>\n",
       "  </tbody>\n",
       "</table>\n",
       "<p>5 rows × 10343 columns</p>\n",
       "</div>"
      ],
      "text/plain": [
       "                aa    aaa  aaaaaaaaaahhhh  aaaaacchoooo   aaat  aab  aaccha  \\\n",
       "component_1  0.226  0.200             0.2           0.2  1.195  0.2     0.2   \n",
       "component_2  6.173  0.200             0.2           0.2  0.200  0.2     1.2   \n",
       "component_3  0.200  0.200             1.2           1.2  0.200  0.2     0.2   \n",
       "component_4  2.200  0.201             0.2           0.2  0.205  0.2     0.2   \n",
       "component_5  4.200  1.199             0.2           0.2  0.200  1.2     0.2   \n",
       "\n",
       "             aag  aai  aaj  ...   빡빡  어뎐더머  𝚌𝚘𝚖𝚎𝚍𝚢    𝚍𝚒𝚍   𝚕𝚒𝚟𝚎   𝚕𝚘𝚟𝚎  \\\n",
       "component_1  0.2  0.2  0.2  ...  0.2   0.2   0.200  0.200  0.200  0.200   \n",
       "component_2  2.2  1.2  1.2  ...  0.2   0.2   1.199  1.199  1.199  1.199   \n",
       "component_3  0.2  0.2  0.2  ...  1.2   1.2   0.201  0.201  0.201  0.201   \n",
       "component_4  1.2  0.2  0.2  ...  0.2   0.2   0.200  0.200  0.200  0.200   \n",
       "component_5  0.2  0.2  3.2  ...  0.2   0.2   0.200  0.200  0.200  0.200   \n",
       "\n",
       "             𝚖𝚊𝚛𝚔𝚊𝚗𝚐𝚎𝚕  𝚠𝚑𝚒𝚕𝚎    𝚢𝚘𝚞   𝚢𝚘𝚞𝚛  \n",
       "component_1      0.200  0.200  0.200  0.200  \n",
       "component_2      1.199  1.199  1.199  1.199  \n",
       "component_3      0.201  0.201  0.201  0.201  \n",
       "component_4      0.200  0.200  0.200  0.200  \n",
       "component_5      0.200  0.200  0.200  0.200  \n",
       "\n",
       "[5 rows x 10343 columns]"
      ]
     },
     "execution_count": 452,
     "metadata": {},
     "output_type": "execute_result"
    }
   ],
   "source": [
    "topic_word = pd.DataFrame(lda.components_.round(3),\n",
    "             index = [\"component_1\",\"component_2\", \"component_3\",\"component_4\", \"component_5\"],\n",
    "             columns = vectorizer.get_feature_names())\n",
    "topic_word"
   ]
  },
  {
   "cell_type": "code",
   "execution_count": 454,
   "metadata": {},
   "outputs": [
    {
     "name": "stdout",
     "output_type": "stream",
     "text": [
      "\n",
      "Topic  0\n",
      "good, god, quot, great, funni, world, amp, peopl, time, lol, laugh, come, guy, thank, make\n",
      "\n",
      "Topic  1\n",
      "bro, bhai, super, ko, hai, good, sir, ke, hahaha, sa, funni, comedi, channel, polic, best\n",
      "\n",
      "Topic  2\n",
      "peopl, quot, make, thank, amp, time, trump, good, know, laugh, stay, need, funni, think, world\n",
      "\n",
      "Topic  3\n",
      "polic, hai, peopl, india, ko, good, se, ki, pleas, guy, amp, lockdown, ka, ye, way\n",
      "\n",
      "Topic  4\n",
      "funni, kkkkkkkkkkkkkkkkk, comedi, ha, hai, peopl, song, use, amp, good, bro, man, quot, video, mark\n"
     ]
    }
   ],
   "source": [
    "display_topics(lda, vectorizer.get_feature_names(), 15)"
   ]
  },
  {
   "cell_type": "code",
   "execution_count": 455,
   "metadata": {},
   "outputs": [
    {
     "data": {
      "text/plain": [
       "array([[0.22627258, 0.20000062, 0.20000081, ..., 0.20000038, 0.20000038,\n",
       "        0.20000038],\n",
       "       [6.17310532, 0.20000101, 0.20000128, ..., 1.1988437 , 1.1988437 ,\n",
       "        1.1988437 ],\n",
       "       [0.20037544, 0.20000025, 1.19999564, ..., 0.20115488, 0.20115488,\n",
       "        0.20115488],\n",
       "       [2.2000981 , 0.20103679, 0.20000121, ..., 0.20000052, 0.20000052,\n",
       "        0.20000052],\n",
       "       [4.20014856, 1.19896133, 0.20000106, ..., 0.20000052, 0.20000052,\n",
       "        0.20000052]])"
      ]
     },
     "execution_count": 455,
     "metadata": {},
     "output_type": "execute_result"
    }
   ],
   "source": [
    "lda.components_"
   ]
  },
  {
   "cell_type": "code",
   "execution_count": 459,
   "metadata": {},
   "outputs": [
    {
     "data": {
      "text/html": [
       "<div>\n",
       "<style scoped>\n",
       "    .dataframe tbody tr th:only-of-type {\n",
       "        vertical-align: middle;\n",
       "    }\n",
       "\n",
       "    .dataframe tbody tr th {\n",
       "        vertical-align: top;\n",
       "    }\n",
       "\n",
       "    .dataframe thead th {\n",
       "        text-align: right;\n",
       "    }\n",
       "</style>\n",
       "<table border=\"1\" class=\"dataframe\">\n",
       "  <thead>\n",
       "    <tr style=\"text-align: right;\">\n",
       "      <th></th>\n",
       "      <th>component_1</th>\n",
       "      <th>component_2</th>\n",
       "      <th>component_3</th>\n",
       "      <th>component_4</th>\n",
       "      <th>component_5</th>\n",
       "    </tr>\n",
       "    <tr>\n",
       "      <th>video_id</th>\n",
       "      <th></th>\n",
       "      <th></th>\n",
       "      <th></th>\n",
       "      <th></th>\n",
       "      <th></th>\n",
       "    </tr>\n",
       "  </thead>\n",
       "  <tbody>\n",
       "    <tr>\n",
       "      <td>-6Li2qT0ZkI</td>\n",
       "      <td>0.00065</td>\n",
       "      <td>0.00065</td>\n",
       "      <td>0.99740</td>\n",
       "      <td>0.00065</td>\n",
       "      <td>0.00065</td>\n",
       "    </tr>\n",
       "    <tr>\n",
       "      <td>-CCW4Xnp_sQ</td>\n",
       "      <td>0.00151</td>\n",
       "      <td>0.00149</td>\n",
       "      <td>0.99403</td>\n",
       "      <td>0.00149</td>\n",
       "      <td>0.00149</td>\n",
       "    </tr>\n",
       "    <tr>\n",
       "      <td>-Cg1jBuYZYM</td>\n",
       "      <td>0.45003</td>\n",
       "      <td>0.01451</td>\n",
       "      <td>0.01447</td>\n",
       "      <td>0.50660</td>\n",
       "      <td>0.01438</td>\n",
       "    </tr>\n",
       "    <tr>\n",
       "      <td>-LAaN5VnTDo</td>\n",
       "      <td>0.00141</td>\n",
       "      <td>0.00140</td>\n",
       "      <td>0.99438</td>\n",
       "      <td>0.00141</td>\n",
       "      <td>0.00141</td>\n",
       "    </tr>\n",
       "    <tr>\n",
       "      <td>-skA4GhVX7k</td>\n",
       "      <td>0.49276</td>\n",
       "      <td>0.00161</td>\n",
       "      <td>0.50241</td>\n",
       "      <td>0.00161</td>\n",
       "      <td>0.00162</td>\n",
       "    </tr>\n",
       "    <tr>\n",
       "      <td>...</td>\n",
       "      <td>...</td>\n",
       "      <td>...</td>\n",
       "      <td>...</td>\n",
       "      <td>...</td>\n",
       "      <td>...</td>\n",
       "    </tr>\n",
       "    <tr>\n",
       "      <td>yt5vLJpy_sw</td>\n",
       "      <td>0.00532</td>\n",
       "      <td>0.00522</td>\n",
       "      <td>0.59006</td>\n",
       "      <td>0.00521</td>\n",
       "      <td>0.39419</td>\n",
       "    </tr>\n",
       "    <tr>\n",
       "      <td>zJD7DImCThk</td>\n",
       "      <td>0.00107</td>\n",
       "      <td>0.25328</td>\n",
       "      <td>0.74353</td>\n",
       "      <td>0.00106</td>\n",
       "      <td>0.00106</td>\n",
       "    </tr>\n",
       "    <tr>\n",
       "      <td>zTMlWzMe-h8</td>\n",
       "      <td>0.00399</td>\n",
       "      <td>0.32590</td>\n",
       "      <td>0.66219</td>\n",
       "      <td>0.00395</td>\n",
       "      <td>0.00397</td>\n",
       "    </tr>\n",
       "    <tr>\n",
       "      <td>zqOMkTvqaDY</td>\n",
       "      <td>0.96480</td>\n",
       "      <td>0.00873</td>\n",
       "      <td>0.00894</td>\n",
       "      <td>0.00875</td>\n",
       "      <td>0.00877</td>\n",
       "    </tr>\n",
       "    <tr>\n",
       "      <td>zqolMo_nv5U</td>\n",
       "      <td>0.06715</td>\n",
       "      <td>0.06725</td>\n",
       "      <td>0.06689</td>\n",
       "      <td>0.06701</td>\n",
       "      <td>0.73170</td>\n",
       "    </tr>\n",
       "  </tbody>\n",
       "</table>\n",
       "<p>496 rows × 5 columns</p>\n",
       "</div>"
      ],
      "text/plain": [
       "             component_1  component_2  component_3  component_4  component_5\n",
       "video_id                                                                    \n",
       "-6Li2qT0ZkI      0.00065      0.00065      0.99740      0.00065      0.00065\n",
       "-CCW4Xnp_sQ      0.00151      0.00149      0.99403      0.00149      0.00149\n",
       "-Cg1jBuYZYM      0.45003      0.01451      0.01447      0.50660      0.01438\n",
       "-LAaN5VnTDo      0.00141      0.00140      0.99438      0.00141      0.00141\n",
       "-skA4GhVX7k      0.49276      0.00161      0.50241      0.00161      0.00162\n",
       "...                  ...          ...          ...          ...          ...\n",
       "yt5vLJpy_sw      0.00532      0.00522      0.59006      0.00521      0.39419\n",
       "zJD7DImCThk      0.00107      0.25328      0.74353      0.00106      0.00106\n",
       "zTMlWzMe-h8      0.00399      0.32590      0.66219      0.00395      0.00397\n",
       "zqOMkTvqaDY      0.96480      0.00873      0.00894      0.00875      0.00877\n",
       "zqolMo_nv5U      0.06715      0.06725      0.06689      0.06701      0.73170\n",
       "\n",
       "[496 rows x 5 columns]"
      ]
     },
     "execution_count": 459,
     "metadata": {},
     "output_type": "execute_result"
    }
   ],
   "source": [
    "doc_topic_lda = pd.DataFrame(doc_topic.round(5),\n",
    "                             index=df['video_id'],\n",
    "                             columns = [\"component_1\",\"component_2\", \"component_3\",\"component_4\", \"component_5\"])\n",
    "doc_topic_lda"
   ]
  },
  {
   "cell_type": "code",
   "execution_count": 460,
   "metadata": {},
   "outputs": [
    {
     "data": {
      "text/plain": [
       "array([[1.        , 0.68465228],\n",
       "       [0.68465228, 1.        ]])"
      ]
     },
     "execution_count": 460,
     "metadata": {},
     "output_type": "execute_result"
    }
   ],
   "source": [
    "cosine_similarity((doc_topic_nmf.values[0], doc_topic_nmf.values[1]))"
   ]
  },
  {
   "cell_type": "code",
   "execution_count": 461,
   "metadata": {},
   "outputs": [
    {
     "data": {
      "text/plain": [
       "array([[1.        , 0.65006751],\n",
       "       [0.65006751, 1.        ]])"
      ]
     },
     "execution_count": 461,
     "metadata": {},
     "output_type": "execute_result"
    }
   ],
   "source": [
    "cosine_similarity((doc_topic_nmf.values[0], doc_topic_nmf.values[136]))"
   ]
  },
  {
   "cell_type": "code",
   "execution_count": null,
   "metadata": {},
   "outputs": [],
   "source": []
  }
 ],
 "metadata": {
  "kernelspec": {
   "display_name": "Python 3",
   "language": "python",
   "name": "python3"
  },
  "language_info": {
   "codemirror_mode": {
    "name": "ipython",
    "version": 3
   },
   "file_extension": ".py",
   "mimetype": "text/x-python",
   "name": "python",
   "nbconvert_exporter": "python",
   "pygments_lexer": "ipython3",
   "version": "3.7.4"
  }
 },
 "nbformat": 4,
 "nbformat_minor": 2
}
