{
 "cells": [
  {
   "cell_type": "code",
   "execution_count": 11,
   "metadata": {},
   "outputs": [],
   "source": [
    "import os\n",
    "\n",
    "import google_auth_oauthlib.flow\n",
    "import googleapiclient.discovery\n",
    "import googleapiclient.errors"
   ]
  },
  {
   "cell_type": "code",
   "execution_count": 1,
   "metadata": {},
   "outputs": [],
   "source": [
    "from selenium import webdriver\n",
    "import time\n",
    "import re\n",
    "import csv\n",
    "import string\n",
    "import os\n",
    "import random\n",
    "import pickle\n",
    "\n",
    "from collections import defaultdict  \n",
    "import pandas as pd"
   ]
  },
  {
   "cell_type": "code",
   "execution_count": 2,
   "metadata": {},
   "outputs": [],
   "source": [
    " links = pd.read_csv('../comedy_comparisons-2/comedy_comparisons.train.txt', \n",
    "                     names = ['left', 'right', 'funnier'], sep=',')"
   ]
  },
  {
   "cell_type": "code",
   "execution_count": 3,
   "metadata": {},
   "outputs": [],
   "source": [
    "links_1000_2000_left = links.iloc[1000:2000, 0]"
   ]
  },
  {
   "cell_type": "code",
   "execution_count": 4,
   "metadata": {},
   "outputs": [],
   "source": [
    "chromedriver = '/Applications/chromedriver'\n",
    "os.environ['webdriver.chrome.driver'] = chromedriver\n",
    "driver = webdriver.Chrome(chromedriver)"
   ]
  },
  {
   "cell_type": "code",
   "execution_count": 8,
   "metadata": {},
   "outputs": [],
   "source": [
    "def get_comments(url):\n",
    "    \n",
    "    d = defaultdict()\n",
    "    \n",
    "    driver.get(url)\n",
    "    driver.maximize_window()\n",
    "    time.sleep(5)\n",
    "    title = driver.find_element_by_xpath('//*[@id=\"container\"]/h1/yt-formatted-string').text\n",
    "\n",
    "    d['title'] = title\n",
    "\n",
    "    comment_section = driver.find_element_by_xpath('//*[@id=\"comments\"]')\n",
    "    driver.execute_script(\"arguments[0].scrollIntoView();\", comment_section)\n",
    "    time.sleep(7)\n",
    "\n",
    "    last_height = driver.execute_script(\"return document.documentElement.scrollHeight\")\n",
    "    while True:\n",
    "        # Scroll down to bottom\n",
    "        driver.execute_script(\"window.scrollTo(0, document.documentElement.scrollHeight);\")\n",
    "\n",
    "        # Wait to load page\n",
    "        time.sleep(2)\n",
    "\n",
    "        # Calculate new scroll height and compare with last scroll height\n",
    "        new_height = driver.execute_script(\"return document.documentElement.scrollHeight\")\n",
    "        if new_height == last_height:\n",
    "            break\n",
    "        last_height = new_height\n",
    "\n",
    "    driver.execute_script(\"window.scrollTo(0, document.documentElement.scrollHeight);\")\n",
    "\n",
    "    emoji_pattern = re.compile(\"[\"\n",
    "                               u\"\\U0001F600-\\U0001F64F\"  \n",
    "                               u\"\\U0001F300-\\U0001F5FF\"\n",
    "                               u\"\\U0001F680-\\U0001F6FF\"\n",
    "                               u\"\\U0001F1E0-\\U0001F1FF\"\n",
    "                               \"]+\", flags=re.UNICODE)\n",
    "\n",
    "    name_elems=driver.find_elements_by_xpath('//*[@id=\"author-text\"]')\n",
    "    comment_elems = driver.find_elements_by_xpath('//*[@id=\"content-text\"]')\n",
    "    num_of_names = len(name_elems)\n",
    "    for j in range(num_of_names):\n",
    "        username = name_elems[j].text    # .replace(\",\", \"|\")\n",
    "        comment = comment_elems[j].text    # .replace(\",\", \"|\")\n",
    "        d[j] = [username, comment]\n",
    "            \n",
    "    return d"
   ]
  },
  {
   "cell_type": "code",
   "execution_count": 11,
   "metadata": {},
   "outputs": [],
   "source": [
    "tic = pd.datetime.now()\n",
    "\n",
    "comments_dict = defaultdict()\n",
    "\n",
    "for i in links_1000_2000_left:\n",
    "    try:\n",
    "        url = 'https://www.youtube.com/watch?v=' + i\n",
    "        if i not in comments_dict.keys():\n",
    "            comments_dict[i] = get_comments(url)\n",
    "        \n",
    "    except:\n",
    "        \n",
    "        comments_dict[i] = {}\n",
    "        \n",
    "    time.sleep(.5+1*random.random())\n",
    "    \n",
    "toc=pd.datetime.now()"
   ]
  },
  {
   "cell_type": "code",
   "execution_count": 12,
   "metadata": {},
   "outputs": [
    {
     "data": {
      "text/plain": [
       "datetime.timedelta(seconds=8668, microseconds=53406)"
      ]
     },
     "execution_count": 12,
     "metadata": {},
     "output_type": "execute_result"
    }
   ],
   "source": [
    "toc-tic #7.7 hours"
   ]
  },
  {
   "cell_type": "code",
   "execution_count": 35,
   "metadata": {},
   "outputs": [],
   "source": [
    "df = pd.DataFrame.from_dict(comments_dict, orient='index', dtype=None, columns=None)"
   ]
  },
  {
   "cell_type": "code",
   "execution_count": null,
   "metadata": {},
   "outputs": [],
   "source": []
  },
  {
   "cell_type": "code",
   "execution_count": 36,
   "metadata": {},
   "outputs": [],
   "source": [
    "df.reset_index(inplace=True)\n",
    "df.rename(columns={'index':'video_id'}, inplace=True)"
   ]
  },
  {
   "cell_type": "code",
   "execution_count": 37,
   "metadata": {},
   "outputs": [],
   "source": [
    "df = pd.melt(df, id_vars=['video_id', 'title'])\n",
    "df.rename(columns={'variable':'comment_order', 'value':'comment_'}, inplace=True)"
   ]
  },
  {
   "cell_type": "code",
   "execution_count": 43,
   "metadata": {},
   "outputs": [
    {
     "data": {
      "text/plain": [
       "(9019, 4)"
      ]
     },
     "execution_count": 43,
     "metadata": {},
     "output_type": "execute_result"
    }
   ],
   "source": [
    "df.shape"
   ]
  },
  {
   "cell_type": "code",
   "execution_count": 39,
   "metadata": {},
   "outputs": [
    {
     "name": "stdout",
     "output_type": "stream",
     "text": [
      "<class 'pandas.core.frame.DataFrame'>\n",
      "RangeIndex: 516000 entries, 0 to 515999\n",
      "Data columns (total 4 columns):\n",
      "video_id         516000 non-null object\n",
      "title            516000 non-null object\n",
      "comment_order    516000 non-null object\n",
      "comment_         9019 non-null object\n",
      "dtypes: object(4)\n",
      "memory usage: 15.7+ MB\n"
     ]
    }
   ],
   "source": [
    "df.info()"
   ]
  },
  {
   "cell_type": "code",
   "execution_count": 40,
   "metadata": {},
   "outputs": [],
   "source": [
    "with open('comments_1000_2000_left_nans.pkl', 'wb') as picklefile:\n",
    "    pickle.dump(df, picklefile)"
   ]
  },
  {
   "cell_type": "code",
   "execution_count": 42,
   "metadata": {},
   "outputs": [],
   "source": [
    "df.dropna(axis=0, inplace=True)"
   ]
  },
  {
   "cell_type": "code",
   "execution_count": 20,
   "metadata": {},
   "outputs": [],
   "source": [
    "df[['user', 'comment']] = pd.DataFrame(df['comment_'].tolist(), index=df.index)"
   ]
  },
  {
   "cell_type": "code",
   "execution_count": 21,
   "metadata": {},
   "outputs": [],
   "source": [
    "df.drop('comment_', axis=1, inplace=True)"
   ]
  },
  {
   "cell_type": "code",
   "execution_count": 44,
   "metadata": {},
   "outputs": [],
   "source": [
    "with open('comments_1000_2000_left_clean_9019.pkl', 'wb') as picklefile:\n",
    "    pickle.dump(df, picklefile)"
   ]
  },
  {
   "cell_type": "code",
   "execution_count": 45,
   "metadata": {},
   "outputs": [
    {
     "data": {
      "text/html": [
       "<div>\n",
       "<style scoped>\n",
       "    .dataframe tbody tr th:only-of-type {\n",
       "        vertical-align: middle;\n",
       "    }\n",
       "\n",
       "    .dataframe tbody tr th {\n",
       "        vertical-align: top;\n",
       "    }\n",
       "\n",
       "    .dataframe thead th {\n",
       "        text-align: right;\n",
       "    }\n",
       "</style>\n",
       "<table border=\"1\" class=\"dataframe\">\n",
       "  <thead>\n",
       "    <tr style=\"text-align: right;\">\n",
       "      <th></th>\n",
       "      <th>video_id</th>\n",
       "      <th>title</th>\n",
       "      <th>comment_order</th>\n",
       "      <th>comment_</th>\n",
       "    </tr>\n",
       "  </thead>\n",
       "  <tbody>\n",
       "    <tr>\n",
       "      <td>0</td>\n",
       "      <td>O5utqi_QtRU</td>\n",
       "      <td>Grape Stomp Lady - Funny Classic Accident</td>\n",
       "      <td>0</td>\n",
       "      <td>[Ashley Casey, STEWIE!!!!]</td>\n",
       "    </tr>\n",
       "    <tr>\n",
       "      <td>1</td>\n",
       "      <td>bCL9tcxBOMs</td>\n",
       "      <td>The realities of the new South Africa</td>\n",
       "      <td>0</td>\n",
       "      <td>[TheCamshafter, You have to have lived in SA t...</td>\n",
       "    </tr>\n",
       "    <tr>\n",
       "      <td>2</td>\n",
       "      <td>FPgpwNzYIrg</td>\n",
       "      <td>Wife gets pranked hard</td>\n",
       "      <td>0</td>\n",
       "      <td>[Marlowann, It's been like two years since I'v...</td>\n",
       "    </tr>\n",
       "    <tr>\n",
       "      <td>3</td>\n",
       "      <td>LTDAW-Wbf08</td>\n",
       "      <td>Stoned News Reporter</td>\n",
       "      <td>0</td>\n",
       "      <td>[Kay Carter, Rugged soldiers burning drugs! LM...</td>\n",
       "    </tr>\n",
       "    <tr>\n",
       "      <td>4</td>\n",
       "      <td>ALZZx1xmAzg</td>\n",
       "      <td>The IT Crowd - Series 2 - Episode 3: Piracy wa...</td>\n",
       "      <td>0</td>\n",
       "      <td>[Rob Robinson737, An FBI agent in England shoo...</td>\n",
       "    </tr>\n",
       "    <tr>\n",
       "      <td>...</td>\n",
       "      <td>...</td>\n",
       "      <td>...</td>\n",
       "      <td>...</td>\n",
       "      <td>...</td>\n",
       "    </tr>\n",
       "    <tr>\n",
       "      <td>514303</td>\n",
       "      <td>54AW7V2O9xc</td>\n",
       "      <td>CLUTCH Comedian Bryson Turner</td>\n",
       "      <td>1495</td>\n",
       "      <td>[Borqna Iordanova, I'M COMING, I'M FROM 9GAG]</td>\n",
       "    </tr>\n",
       "    <tr>\n",
       "      <td>514647</td>\n",
       "      <td>54AW7V2O9xc</td>\n",
       "      <td>CLUTCH Comedian Bryson Turner</td>\n",
       "      <td>1496</td>\n",
       "      <td>[Descoordenadoo, damn, that diss made me snarf...</td>\n",
       "    </tr>\n",
       "    <tr>\n",
       "      <td>514991</td>\n",
       "      <td>54AW7V2O9xc</td>\n",
       "      <td>CLUTCH Comedian Bryson Turner</td>\n",
       "      <td>1497</td>\n",
       "      <td>[ZavulonPorter, WHAT DID HE SAY IN RESPONSE?? ...</td>\n",
       "    </tr>\n",
       "    <tr>\n",
       "      <td>515335</td>\n",
       "      <td>54AW7V2O9xc</td>\n",
       "      <td>CLUTCH Comedian Bryson Turner</td>\n",
       "      <td>1498</td>\n",
       "      <td>[iñigo san jose, 0:04 to 0:33 ,19 awkwards sec...</td>\n",
       "    </tr>\n",
       "    <tr>\n",
       "      <td>515679</td>\n",
       "      <td>54AW7V2O9xc</td>\n",
       "      <td>CLUTCH Comedian Bryson Turner</td>\n",
       "      <td>1499</td>\n",
       "      <td>[Muhammad Ali Khawaja, lol he said that right ...</td>\n",
       "    </tr>\n",
       "  </tbody>\n",
       "</table>\n",
       "<p>9019 rows × 4 columns</p>\n",
       "</div>"
      ],
      "text/plain": [
       "           video_id                                              title  \\\n",
       "0       O5utqi_QtRU          Grape Stomp Lady - Funny Classic Accident   \n",
       "1       bCL9tcxBOMs              The realities of the new South Africa   \n",
       "2       FPgpwNzYIrg                             Wife gets pranked hard   \n",
       "3       LTDAW-Wbf08                               Stoned News Reporter   \n",
       "4       ALZZx1xmAzg  The IT Crowd - Series 2 - Episode 3: Piracy wa...   \n",
       "...             ...                                                ...   \n",
       "514303  54AW7V2O9xc                      CLUTCH Comedian Bryson Turner   \n",
       "514647  54AW7V2O9xc                      CLUTCH Comedian Bryson Turner   \n",
       "514991  54AW7V2O9xc                      CLUTCH Comedian Bryson Turner   \n",
       "515335  54AW7V2O9xc                      CLUTCH Comedian Bryson Turner   \n",
       "515679  54AW7V2O9xc                      CLUTCH Comedian Bryson Turner   \n",
       "\n",
       "       comment_order                                           comment_  \n",
       "0                  0                         [Ashley Casey, STEWIE!!!!]  \n",
       "1                  0  [TheCamshafter, You have to have lived in SA t...  \n",
       "2                  0  [Marlowann, It's been like two years since I'v...  \n",
       "3                  0  [Kay Carter, Rugged soldiers burning drugs! LM...  \n",
       "4                  0  [Rob Robinson737, An FBI agent in England shoo...  \n",
       "...              ...                                                ...  \n",
       "514303          1495      [Borqna Iordanova, I'M COMING, I'M FROM 9GAG]  \n",
       "514647          1496  [Descoordenadoo, damn, that diss made me snarf...  \n",
       "514991          1497  [ZavulonPorter, WHAT DID HE SAY IN RESPONSE?? ...  \n",
       "515335          1498  [iñigo san jose, 0:04 to 0:33 ,19 awkwards sec...  \n",
       "515679          1499  [Muhammad Ali Khawaja, lol he said that right ...  \n",
       "\n",
       "[9019 rows x 4 columns]"
      ]
     },
     "execution_count": 45,
     "metadata": {},
     "output_type": "execute_result"
    }
   ],
   "source": [
    "df"
   ]
  },
  {
   "cell_type": "code",
   "execution_count": null,
   "metadata": {},
   "outputs": [],
   "source": []
  },
  {
   "cell_type": "markdown",
   "metadata": {},
   "source": [
    "Commets with API"
   ]
  },
  {
   "cell_type": "code",
   "execution_count": 8,
   "metadata": {},
   "outputs": [],
   "source": [
    "YOUTUBE_COMMENT_URL = 'https://www.googleapis.com/youtube/v3/commentThreads'\n",
    "def get_video_comment(self):\n",
    "\n",
    "    def load_comments(self):\n",
    "        for item in mat[\"items\"]:\n",
    "            comment = item[\"snippet\"][\"topLevelComment\"]\n",
    "            author = comment[\"snippet\"][\"authorDisplayName\"]\n",
    "            text = comment[\"snippet\"][\"textDisplay\"]\n",
    "            print(\"Comment by {}: {}\".format(author, text))\n",
    "            if 'replies' in item.keys():\n",
    "                for reply in item['replies']['comments']:\n",
    "                    rauthor = reply['snippet']['authorDisplayName']\n",
    "                    rtext = reply[\"snippet\"][\"textDisplay\"]\n",
    "\n",
    "                print(\"\\n\\tReply by {}: {}\".format(rauthor, rtext), \"\\n\")\n",
    "\n",
    "    parser = argparse.ArgumentParser()\n",
    "    mxRes = 20\n",
    "    vid = str()\n",
    "    parser.add_argument(\"--c\", help=\"calls comment function by keyword function\", action='store_true')\n",
    "    parser.add_argument(\"--max\", help=\"number of comments to return\")\n",
    "    parser.add_argument(\"--videourl\", help=\"Required URL for which comments to return\")\n",
    "    parser.add_argument(\"--key\", help=\"Required API key\")\n",
    "\n",
    "    args = parser.parse_args()\n",
    "\n",
    "    if not args.max:\n",
    "        args.max = mxRes\n",
    "\n",
    "    if not args.videourl:\n",
    "        exit(\"Please specify video URL using the --videourl=parameter.\")\n",
    "\n",
    "    if not args.key:\n",
    "        exit(\"Please specify API key using the --key=parameter.\")\n",
    "\n",
    "    try:\n",
    "        video_id = urlparse(str(args.videourl))\n",
    "        q = parse_qs(video_id.query)\n",
    "        vid = q[\"v\"][0]\n",
    "\n",
    "    except:\n",
    "        print(\"Invalid YouTube URL\")\n",
    "\n",
    "    parms = {\n",
    "                'part': 'snippet,replies',\n",
    "                'maxResults': args.max,\n",
    "                'videoId': vid,\n",
    "                'key': args.key\n",
    "            }\n",
    "\n",
    "    try:\n",
    "\n",
    "        matches = self.openURL(YOUTUBE_COMMENT_URL, parms)\n",
    "        i = 2\n",
    "        mat = json.loads(matches)\n",
    "        nextPageToken = mat.get(\"nextPageToken\")\n",
    "        print(\"\\nPage : 1\")\n",
    "        print(\"------------------------------------------------------------------\")\n",
    "        load_comments(self)\n",
    "\n",
    "        while nextPageToken:\n",
    "            parms.update({'pageToken': nextPageToken})\n",
    "            matches = self.openURL(YOUTUBE_COMMENT_URL, parms)\n",
    "            mat = json.loads(matches)\n",
    "            nextPageToken = mat.get(\"nextPageToken\")\n",
    "            print(\"\\nPage : \", i)\n",
    "            print(\"------------------------------------------------------------------\")\n",
    "\n",
    "            load_comments(self)\n",
    "\n",
    "            i += 1\n",
    "    except KeyboardInterrupt:\n",
    "        print(\"User Aborted the Operation\")\n",
    "\n",
    "    except:\n",
    "        print(\"Cannot Open URL or Fetch comments at a moment\")"
   ]
  },
  {
   "cell_type": "code",
   "execution_count": null,
   "metadata": {},
   "outputs": [],
   "source": [
    "scopes = [\"https://www.googleapis.com/auth/youtube.readonly\"]\n",
    "\n",
    "def main():\n",
    "    # Disable OAuthlib's HTTPS verification when running locally.\n",
    "    # *DO NOT* leave this option enabled in production.\n",
    "    os.environ[\"OAUTHLIB_INSECURE_TRANSPORT\"] = \"1\"\n",
    "\n",
    "    api_service_name = \"youtube\"\n",
    "    api_version = \"v3\"\n",
    "    client_secrets_file = \"../client_secret.json\"\n",
    "\n",
    "    # Get credentials and create an API client\n",
    "    flow = google_auth_oauthlib.flow.InstalledAppFlow.from_client_secrets_file(\n",
    "        client_secrets_file, scopes) #\n",
    "    credentials = flow.run_console()\n",
    "    youtube = googleapiclient.discovery.build(\n",
    "        api_service_name, api_version, credentials=credentials)\n",
    "\n",
    "    request = youtube.channels().list(\n",
    "        part=\"snippet,contentDetails,statistics\",\n",
    "        id=\"gVVIIj_PFEhaFCYIlv2hlcyn\"\n",
    "    )\n",
    "    response = request.execute()\n",
    "\n",
    "    print(response)\n",
    "\n",
    "if __name__ == \"__main__\":\n",
    "    main()"
   ]
  },
  {
   "cell_type": "code",
   "execution_count": 1,
   "metadata": {},
   "outputs": [],
   "source": [
    "# See instructions for running these code samples locally:\n",
    "# https://developers.google.com/explorer-help/guides/code_samples#python\n",
    "scopes = [\"https://www.googleapis.com/youtube/v3/commentThreads\"]\n",
    "\n",
    "\n",
    "def main():\n",
    "    # Disable OAuthlib's HTTPS verification when running locally.\n",
    "    # *DO NOT* leave this option enabled in production.\n",
    "    os.environ[\"OAUTHLIB_INSECURE_TRANSPORT\"] = \"1\"\n",
    "\n",
    "    api_service_name = \"youtube\"\n",
    "    api_version = \"v3\"\n",
    "    DEVELOPER_KEY = \"XXXXXXXXXXXX\"\n",
    "    client_secrets_file = \"../client_secret.json\"\n",
    "    \n",
    "    flow = google_auth_oauthlib.flow.InstalledAppFlow.from_client_secrets_file(\n",
    "        client_secrets_file, scopes)\n",
    "    credentials = flow.run_console()\n",
    "    \n",
    "    youtube = googleapiclient.discovery.build(\n",
    "        api_service_name, api_version, credentials=credentials, developerKey=DEVELOPER_KEY)\n",
    "    \n",
    "    \n",
    "\n",
    "    request = youtube.commentThreads().list(\n",
    "        part=\"snippet,replies\",\n",
    "        videoId=\"_VB39Jo8mAQ\"\n",
    "    )\n",
    "    response = request.execute()\n",
    "\n",
    "    print(response)\n",
    "\n",
    "if __name__ == \"__main__\":\n",
    "    main()"
   ]
  }
 ],
 "metadata": {
  "kernelspec": {
   "display_name": "Python 3",
   "language": "python",
   "name": "python3"
  },
  "language_info": {
   "codemirror_mode": {
    "name": "ipython",
    "version": 3
   },
   "file_extension": ".py",
   "mimetype": "text/x-python",
   "name": "python",
   "nbconvert_exporter": "python",
   "pygments_lexer": "ipython3",
   "version": "3.7.4"
  }
 },
 "nbformat": 4,
 "nbformat_minor": 2
}
